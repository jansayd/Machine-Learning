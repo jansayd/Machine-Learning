{
 "cells": [
  {
   "cell_type": "code",
   "execution_count": 20,
   "metadata": {},
   "outputs": [],
   "source": [
    "# carregando o dataset\n",
    "from sklearn.datasets import load_wine\n",
    "wine = load_wine()"
   ]
  },
  {
   "cell_type": "code",
   "execution_count": 23,
   "metadata": {},
   "outputs": [],
   "source": [
    "# exemplos de acessos aos dados\n",
    "x = wine.data[:, :] # features de cada elemento\n",
    "y = wine.target # classes de cada elemento"
   ]
  },
  {
   "cell_type": "code",
   "execution_count": 24,
   "metadata": {},
   "outputs": [],
   "source": [
    "# dividando os dados entre treino e teste\n",
    "from sklearn.model_selection import train_test_split\n",
    "x_train, x_test, y_train, y_test = train_test_split(x, y, test_size = 0.33, random_state = 42)"
   ]
  },
  {
   "cell_type": "code",
   "execution_count": 25,
   "metadata": {},
   "outputs": [],
   "source": [
    "# aplicando o modelo Random Forest\n",
    "from  sklearn.ensemble import RandomForestClassifier\n",
    "rfc = RandomForestClassifier()\n",
    "rfc.fit(x_train, y_train)\n",
    "y_pred = rfc.predict(x_test)"
   ]
  },
  {
   "cell_type": "code",
   "execution_count": 28,
   "metadata": {},
   "outputs": [],
   "source": [
    "# metricas do Random Forest\n",
    "from sklearn.metrics import accuracy_score, recall_score, precision_score\n",
    "rfc_acc = round(accuracy_score(y_test, y_pred), 6) \n",
    "rfc_recall = round(recall_score(y_test, y_pred, average = 'weighted'), 6)\n",
    "rfc_precision = round(precision_score(y_test, y_pred, average = 'weighted'), 6)"
   ]
  },
  {
   "cell_type": "code",
   "execution_count": 29,
   "metadata": {},
   "outputs": [],
   "source": [
    "# aplicando o modelo KNN\n",
    "from sklearn.neighbors import KNeighborsClassifier\n",
    "knn = KNeighborsClassifier(n_neighbors = 3)\n",
    "knn.fit(x_train, y_train)\n",
    "y_pred = knn.predict(x_test)"
   ]
  },
  {
   "cell_type": "code",
   "execution_count": 30,
   "metadata": {},
   "outputs": [],
   "source": [
    "# metricas do KNN\n",
    "knn_acc = round(accuracy_score(y_test, y_pred), 6) \n",
    "knn_recall = round(recall_score(y_test, y_pred, average = 'weighted'), 6)\n",
    "knn_precision = round(precision_score(y_test, y_pred, average = 'weighted'), 6)"
   ]
  },
  {
   "cell_type": "code",
   "execution_count": 38,
   "metadata": {},
   "outputs": [
    {
     "output_type": "stream",
     "name": "stdout",
     "text": "KNN vs Random Forest\n\nClasses: ['class_0' 'class_1' 'class_2']\nAcurácia: 0.694915 vs 1.0\nRecall: 0.694915 vs 1.0\nPrecisão: 0.698231 vs 1.0\n"
    }
   ],
   "source": [
    "# comparação dos modelos\n",
    "print('KNN vs Random Forest\\n')\n",
    "print('Classes: {0}' .format(wine.target_names))\n",
    "print('Acurácia: {0} vs {1}' .format(knn_acc, rfc_acc))\n",
    "print('Recall: {0} vs {1}' .format(knn_recall, rfc_recall))\n",
    "print('Precisão: {0} vs {1}' .format(knn_precision, rfc_precision))"
   ]
  },
  {
   "cell_type": "code",
   "execution_count": 45,
   "metadata": {},
   "outputs": [
    {
     "output_type": "stream",
     "name": "stdout",
     "text": "Validação Cruzada: [0.63888889 0.69444444 0.66666667 0.65714286 0.85714286] vs [0.94444444 0.94444444 0.97222222 0.97142857 0.97142857]\nResultado KNN: 0.7028571428571428\nResultado Random Forest: 0.9607936507936508\n"
    }
   ],
   "source": [
    "# validação cruzada entre os modelos\n",
    "from sklearn.model_selection import cross_val_score\n",
    "cv_rfc = cross_val_score(rfc, x, y)\n",
    "cv_knn = cross_val_score(knn, x, y)\n",
    "print('Validação Cruzada: {0} vs {1}' .format(cv_knn, cv_rfc))\n",
    "print('Resultado KNN: {0}'.format(cv_knn.sum() / len(cv_knn))) # media da validação cruazada\n",
    "print('Resultado Random Forest: {0}'.format(cv_rfc.sum() / len(cv_rfc))) # media da validação cruazada"
   ]
  }
 ],
 "metadata": {
  "language_info": {
   "codemirror_mode": {
    "name": "ipython",
    "version": 3
   },
   "file_extension": ".py",
   "mimetype": "text/x-python",
   "name": "python",
   "nbconvert_exporter": "python",
   "pygments_lexer": "ipython3",
   "version": "3.7.6-final"
  },
  "orig_nbformat": 2,
  "kernelspec": {
   "name": "python37664bitbasecondae1797f1665a5401db9a5814b5ddc2edc",
   "display_name": "Python 3.7.6 64-bit ('base': conda)"
  }
 },
 "nbformat": 4,
 "nbformat_minor": 2
}