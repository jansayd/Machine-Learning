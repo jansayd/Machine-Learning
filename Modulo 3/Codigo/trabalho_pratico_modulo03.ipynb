{
  "nbformat": 4,
  "nbformat_minor": 0,
  "metadata": {
    "colab": {
      "name": "trabalho_pratico_modulo03.ipynb",
      "provenance": [],
      "collapsed_sections": []
    },
    "kernelspec": {
      "name": "python3",
      "display_name": "Python 3"
    }
  },
  "cells": [
    {
      "cell_type": "code",
      "metadata": {
        "id": "ISkEppjul4Ge",
        "colab_type": "code",
        "colab": {}
      },
      "source": [
        "import pandas as pd\n",
        "from sklearn import datasets\n",
        "from sklearn.decomposition import PCA\n",
        "from sklearn.neighbors import KNeighborsClassifier\n",
        "from sklearn.metrics import accuracy_score, recall_score, precision_score"
      ],
      "execution_count": 30,
      "outputs": []
    },
    {
      "cell_type": "code",
      "metadata": {
        "id": "2xM7p8YpmCCS",
        "colab_type": "code",
        "colab": {}
      },
      "source": [
        "# importando o dataset Iris\n",
        "iris = datasets.load_iris()\n",
        "x = iris.data[:, :] # pegamos as primeiras duas features aqui. Pegue as outras se quiser.\n",
        "y = iris.target"
      ],
      "execution_count": 26,
      "outputs": []
    },
    {
      "cell_type": "code",
      "metadata": {
        "id": "uDJfsh7LmJoY",
        "colab_type": "code",
        "colab": {
          "base_uri": "https://localhost:8080/",
          "height": 34
        },
        "outputId": "721dc1d8-582f-4686-b676-06e235fb8cd8"
      },
      "source": [
        "y[0] # classe do primeiro elemento\n",
        "x[:1, :] # primeiro elemento a classificar"
      ],
      "execution_count": 6,
      "outputs": [
        {
          "output_type": "execute_result",
          "data": {
            "text/plain": [
              "0"
            ]
          },
          "metadata": {
            "tags": []
          },
          "execution_count": 6
        }
      ]
    },
    {
      "cell_type": "code",
      "metadata": {
        "id": "Cn5H3uA9oQj8",
        "colab_type": "code",
        "colab": {
          "base_uri": "https://localhost:8080/",
          "height": 34
        },
        "outputId": "ac714855-4126-442e-fcde-961fd54bc3eb"
      },
      "source": [
        "# classes do dataset\n",
        "print('Classes: {0}' .format(iris.target_names))"
      ],
      "execution_count": 17,
      "outputs": [
        {
          "output_type": "stream",
          "text": [
            "Classes: ['setosa' 'versicolor' 'virginica']\n"
          ],
          "name": "stdout"
        }
      ]
    },
    {
      "cell_type": "code",
      "metadata": {
        "id": "Ci1xSxDVoXqT",
        "colab_type": "code",
        "colab": {}
      },
      "source": [
        "# total de amostras do dataset\n",
        "df_wine = pd.DataFrame(iris.data)"
      ],
      "execution_count": 23,
      "outputs": []
    },
    {
      "cell_type": "code",
      "metadata": {
        "id": "nCrJH9sbohn2",
        "colab_type": "code",
        "colab": {
          "base_uri": "https://localhost:8080/",
          "height": 297
        },
        "outputId": "7cadb067-cdb5-4953-978f-f1e2726ae7e1"
      },
      "source": [
        "df_wine.describe()"
      ],
      "execution_count": 25,
      "outputs": [
        {
          "output_type": "execute_result",
          "data": {
            "text/html": [
              "<div>\n",
              "<style scoped>\n",
              "    .dataframe tbody tr th:only-of-type {\n",
              "        vertical-align: middle;\n",
              "    }\n",
              "\n",
              "    .dataframe tbody tr th {\n",
              "        vertical-align: top;\n",
              "    }\n",
              "\n",
              "    .dataframe thead th {\n",
              "        text-align: right;\n",
              "    }\n",
              "</style>\n",
              "<table border=\"1\" class=\"dataframe\">\n",
              "  <thead>\n",
              "    <tr style=\"text-align: right;\">\n",
              "      <th></th>\n",
              "      <th>0</th>\n",
              "      <th>1</th>\n",
              "      <th>2</th>\n",
              "      <th>3</th>\n",
              "    </tr>\n",
              "  </thead>\n",
              "  <tbody>\n",
              "    <tr>\n",
              "      <th>count</th>\n",
              "      <td>150.000000</td>\n",
              "      <td>150.000000</td>\n",
              "      <td>150.000000</td>\n",
              "      <td>150.000000</td>\n",
              "    </tr>\n",
              "    <tr>\n",
              "      <th>mean</th>\n",
              "      <td>5.843333</td>\n",
              "      <td>3.057333</td>\n",
              "      <td>3.758000</td>\n",
              "      <td>1.199333</td>\n",
              "    </tr>\n",
              "    <tr>\n",
              "      <th>std</th>\n",
              "      <td>0.828066</td>\n",
              "      <td>0.435866</td>\n",
              "      <td>1.765298</td>\n",
              "      <td>0.762238</td>\n",
              "    </tr>\n",
              "    <tr>\n",
              "      <th>min</th>\n",
              "      <td>4.300000</td>\n",
              "      <td>2.000000</td>\n",
              "      <td>1.000000</td>\n",
              "      <td>0.100000</td>\n",
              "    </tr>\n",
              "    <tr>\n",
              "      <th>25%</th>\n",
              "      <td>5.100000</td>\n",
              "      <td>2.800000</td>\n",
              "      <td>1.600000</td>\n",
              "      <td>0.300000</td>\n",
              "    </tr>\n",
              "    <tr>\n",
              "      <th>50%</th>\n",
              "      <td>5.800000</td>\n",
              "      <td>3.000000</td>\n",
              "      <td>4.350000</td>\n",
              "      <td>1.300000</td>\n",
              "    </tr>\n",
              "    <tr>\n",
              "      <th>75%</th>\n",
              "      <td>6.400000</td>\n",
              "      <td>3.300000</td>\n",
              "      <td>5.100000</td>\n",
              "      <td>1.800000</td>\n",
              "    </tr>\n",
              "    <tr>\n",
              "      <th>max</th>\n",
              "      <td>7.900000</td>\n",
              "      <td>4.400000</td>\n",
              "      <td>6.900000</td>\n",
              "      <td>2.500000</td>\n",
              "    </tr>\n",
              "  </tbody>\n",
              "</table>\n",
              "</div>"
            ],
            "text/plain": [
              "                0           1           2           3\n",
              "count  150.000000  150.000000  150.000000  150.000000\n",
              "mean     5.843333    3.057333    3.758000    1.199333\n",
              "std      0.828066    0.435866    1.765298    0.762238\n",
              "min      4.300000    2.000000    1.000000    0.100000\n",
              "25%      5.100000    2.800000    1.600000    0.300000\n",
              "50%      5.800000    3.000000    4.350000    1.300000\n",
              "75%      6.400000    3.300000    5.100000    1.800000\n",
              "max      7.900000    4.400000    6.900000    2.500000"
            ]
          },
          "metadata": {
            "tags": []
          },
          "execution_count": 25
        }
      ]
    },
    {
      "cell_type": "code",
      "metadata": {
        "id": "mcrXG4Kgptf8",
        "colab_type": "code",
        "colab": {}
      },
      "source": [
        "# dividando os dados entre treino e teste\n",
        "from sklearn.model_selection import train_test_split\n",
        "x_train, x_test, y_train, y_test = train_test_split(x, y, test_size = 0.33, random_state = 42)"
      ],
      "execution_count": 27,
      "outputs": []
    },
    {
      "cell_type": "code",
      "metadata": {
        "id": "zM6FQcZQmgV1",
        "colab_type": "code",
        "colab": {}
      },
      "source": [
        "# aplicando o KNN\n",
        "knn = KNeighborsClassifier(n_neighbors = 5)\n",
        "knn.fit(x_train, y_train)\n",
        "y_pred = knn.predict(x_test)"
      ],
      "execution_count": 38,
      "outputs": []
    },
    {
      "cell_type": "code",
      "metadata": {
        "id": "HqqdC_hgp1Cv",
        "colab_type": "code",
        "colab": {}
      },
      "source": [
        "# metricas do KNN\n",
        "knn_acc = round(accuracy_score(y_test, y_pred), 6) \n",
        "knn_recall = round(recall_score(y_test, y_pred, average = 'weighted'), 6)\n",
        "knn_precision = round(precision_score(y_test, y_pred, average = 'weighted'), 6)"
      ],
      "execution_count": 39,
      "outputs": []
    },
    {
      "cell_type": "code",
      "metadata": {
        "id": "DxRWX4Ro5lMM",
        "colab_type": "code",
        "colab": {}
      },
      "source": [
        "# aplicando o modelo Random Forest\n",
        "from  sklearn.ensemble import RandomForestClassifier\n",
        "rfc = RandomForestClassifier()\n",
        "rfc.fit(x_train, y_train)\n",
        "y_pred = rfc.predict(x_test)"
      ],
      "execution_count": 34,
      "outputs": []
    },
    {
      "cell_type": "code",
      "metadata": {
        "id": "QQY04q9W5rPB",
        "colab_type": "code",
        "colab": {}
      },
      "source": [
        "# metricas do Random Forest\n",
        "from sklearn.metrics import accuracy_score, recall_score, precision_score\n",
        "rfc_acc = round(accuracy_score(y_test, y_pred), 6) \n",
        "rfc_recall = round(recall_score(y_test, y_pred, average = 'weighted'), 6)\n",
        "rfc_precision = round(precision_score(y_test, y_pred, average = 'weighted'), 6)"
      ],
      "execution_count": 35,
      "outputs": []
    },
    {
      "cell_type": "code",
      "metadata": {
        "id": "NNAkQsfTp--a",
        "colab_type": "code",
        "colab": {
          "base_uri": "https://localhost:8080/",
          "height": 119
        },
        "outputId": "b263324b-cffa-43a1-95b5-773d1a76992e"
      },
      "source": [
        "# comparação dos modelos\n",
        "print('KNN vs Random Forest\\n')\n",
        "print('Classes: {0}' .format(iris.target_names))\n",
        "print('Acurácia: {0} vs {1}' .format(knn_acc, rfc_acc))\n",
        "print('Recall: {0} vs {1}' .format(knn_recall, rfc_recall))\n",
        "print('Precisão: {0} vs {1}' .format(knn_precision, rfc_precision))"
      ],
      "execution_count": 40,
      "outputs": [
        {
          "output_type": "stream",
          "text": [
            "KNN vs Random Forest\n",
            "\n",
            "Classes: ['setosa' 'versicolor' 'virginica']\n",
            "Acurácia: 0.98 vs 0.98\n",
            "Recall: 0.98 vs 0.98\n",
            "Precisão: 0.98125 vs 0.98125\n"
          ],
          "name": "stdout"
        }
      ]
    },
    {
      "cell_type": "code",
      "metadata": {
        "id": "ChRKD6rLr-YP",
        "colab_type": "code",
        "colab": {
          "base_uri": "https://localhost:8080/",
          "height": 68
        },
        "outputId": "2d406b25-a5a3-42af-dea0-7e9610ae35b6"
      },
      "source": [
        "# validação cruzada entre os modelos\n",
        "from sklearn.model_selection import cross_val_score\n",
        "cv_rfc = cross_val_score(rfc, x, y)\n",
        "cv_knn = cross_val_score(knn, x, y)\n",
        "print('Validação Cruzada: {0} vs {1}' .format(cv_knn, cv_rfc))\n",
        "print('Resultado KNN: {0}'.format(cv_knn.sum() / len(cv_knn))) # media da validação cruazada\n",
        "print('Resultado Random Forest: {0}'.format(cv_rfc.sum() / len(cv_rfc))) # media da validação cruazada"
      ],
      "execution_count": 41,
      "outputs": [
        {
          "output_type": "stream",
          "text": [
            "Validação Cruzada: [0.96666667 1.         0.93333333 0.96666667 1.        ] vs [0.96666667 0.96666667 0.93333333 0.96666667 1.        ]\n",
            "Resultado KNN: 0.9733333333333334\n",
            "Resultado Random Forest: 0.9666666666666668\n"
          ],
          "name": "stdout"
        }
      ]
    }
  ]
}