{
  "nbformat": 4,
  "nbformat_minor": 0,
  "metadata": {
    "colab": {
      "name": "desafio_modulo03.ipynb",
      "provenance": [],
      "collapsed_sections": []
    },
    "kernelspec": {
      "name": "python3",
      "display_name": "Python 3"
    }
  },
  "cells": [
    {
      "cell_type": "code",
      "metadata": {
        "id": "qYLasN2Ul1tH",
        "colab_type": "code",
        "colab": {
          "base_uri": "https://localhost:8080/",
          "height": 34
        },
        "outputId": "320c53f8-f90f-475b-abc7-fdf073af65ff"
      },
      "source": [
        "# Imports de avisos\n",
        "import sys\n",
        "import warnings\n",
        "import matplotlib.cbook\n",
        "if not sys.warnoptions:\n",
        "    warnings.simplefilter(\"ignore\")\n",
        "warnings.simplefilter(action='ignore', category=FutureWarning)\n",
        "warnings.filterwarnings(\"ignore\", category=FutureWarning)\n",
        "warnings.filterwarnings(\"ignore\", category=matplotlib.cbook.mplDeprecation)\n",
        "\n",
        "# Imports para manipulacao de dados\n",
        "import pandas as pd\n",
        "import numpy as np\n",
        "\n",
        "# Import para visualizacao dos dados\n",
        "import matplotlib.pyplot as plt\n",
        "from matplotlib import pyplot\n",
        "from sklearn.metrics import confusion_matrix\n",
        "import itertools\n",
        "\n",
        "# Imports de bibliotecas para treinamento de redes neurais convolucionais\n",
        "import tensorflow as tf\n",
        "#from tensorflow.keras import layers\n",
        "from keras.preprocessing.image import ImageDataGenerator\n",
        "from keras.callbacks import ReduceLROnPlateau\n",
        "\n",
        "from keras.utils.np_utils import to_categorical\n",
        "from keras.models import Sequential\n",
        "from keras.layers import Dense, Dropout, Flatten, Conv2D, MaxPool2D\n",
        "from keras.optimizers import RMSprop\n",
        "from keras.preprocessing.image import ImageDataGenerator\n",
        "from keras.callbacks import ReduceLROnPlateau"
      ],
      "execution_count": 2,
      "outputs": [
        {
          "output_type": "stream",
          "text": [
            "Using TensorFlow backend.\n"
          ],
          "name": "stderr"
        }
      ]
    },
    {
      "cell_type": "code",
      "metadata": {
        "id": "wHg5GmgAs9jE",
        "colab_type": "code",
        "colab": {
          "base_uri": "https://localhost:8080/",
          "height": 391
        },
        "outputId": "83168b5f-3e94-42e7-a558-fdff7d35c05f"
      },
      "source": [
        "# Caso aparece um erro do pacote nao instalado, executar o comando abaixo\n",
        "!pip install watermark\n",
        "\n",
        "# Versões dos pacotes usados neste jupyter notebook\n",
        "%reload_ext watermark\n",
        "%watermark -a \"Desafio - Modulo 03 - Rodrigo\" --iversions"
      ],
      "execution_count": 5,
      "outputs": [
        {
          "output_type": "stream",
          "text": [
            "Collecting watermark\n",
            "  Downloading https://files.pythonhosted.org/packages/60/fe/3ed83b6122e70dce6fe269dfd763103c333f168bf91037add73ea4fe81c2/watermark-2.0.2-py2.py3-none-any.whl\n",
            "Requirement already satisfied: ipython in /usr/local/lib/python3.6/dist-packages (from watermark) (5.5.0)\n",
            "Requirement already satisfied: decorator in /usr/local/lib/python3.6/dist-packages (from ipython->watermark) (4.4.2)\n",
            "Requirement already satisfied: traitlets>=4.2 in /usr/local/lib/python3.6/dist-packages (from ipython->watermark) (4.3.3)\n",
            "Requirement already satisfied: pexpect; sys_platform != \"win32\" in /usr/local/lib/python3.6/dist-packages (from ipython->watermark) (4.8.0)\n",
            "Requirement already satisfied: prompt-toolkit<2.0.0,>=1.0.4 in /usr/local/lib/python3.6/dist-packages (from ipython->watermark) (1.0.18)\n",
            "Requirement already satisfied: simplegeneric>0.8 in /usr/local/lib/python3.6/dist-packages (from ipython->watermark) (0.8.1)\n",
            "Requirement already satisfied: setuptools>=18.5 in /usr/local/lib/python3.6/dist-packages (from ipython->watermark) (47.3.1)\n",
            "Requirement already satisfied: pygments in /usr/local/lib/python3.6/dist-packages (from ipython->watermark) (2.1.3)\n",
            "Requirement already satisfied: pickleshare in /usr/local/lib/python3.6/dist-packages (from ipython->watermark) (0.7.5)\n",
            "Requirement already satisfied: ipython-genutils in /usr/local/lib/python3.6/dist-packages (from traitlets>=4.2->ipython->watermark) (0.2.0)\n",
            "Requirement already satisfied: six in /usr/local/lib/python3.6/dist-packages (from traitlets>=4.2->ipython->watermark) (1.12.0)\n",
            "Requirement already satisfied: ptyprocess>=0.5 in /usr/local/lib/python3.6/dist-packages (from pexpect; sys_platform != \"win32\"->ipython->watermark) (0.6.0)\n",
            "Requirement already satisfied: wcwidth in /usr/local/lib/python3.6/dist-packages (from prompt-toolkit<2.0.0,>=1.0.4->ipython->watermark) (0.2.4)\n",
            "Installing collected packages: watermark\n",
            "Successfully installed watermark-2.0.2\n",
            "matplotlib 3.2.1\n",
            "tensorflow 2.2.0\n",
            "pandas     1.0.4\n",
            "numpy      1.18.5\n",
            "Desafio - Modulo 03 - Rodrigo\n"
          ],
          "name": "stdout"
        }
      ]
    },
    {
      "cell_type": "markdown",
      "metadata": {
        "id": "aVpIMMP433H0",
        "colab_type": "text"
      },
      "source": [
        "## Carregando os dados"
      ]
    },
    {
      "cell_type": "code",
      "metadata": {
        "id": "x9kD0vzftEJw",
        "colab_type": "code",
        "colab": {
          "base_uri": "https://localhost:8080/",
          "height": 102
        },
        "outputId": "2d7b8418-e3eb-4ea8-b8e1-687505e70a6d"
      },
      "source": [
        "# Carregando o dataset com imagens do MNIST direto do pacote do Tensorflow\n",
        "(X_train, y_train), (X_test, y_test) = tf.keras.datasets.mnist.load_data(path=\"mnist.npz\")\n",
        "\n",
        "# Colocando os dados na mesma escala [0, 1]\n",
        "X_train = X_train.astype(\"float32\") / 255\n",
        "X_test  = X_test.astype(\"float32\") / 255\n",
        "\n",
        "# Realizando o redimensionamento para (28, 28, 1)\n",
        "X_train = np.expand_dims(X_train, -1)\n",
        "X_test  = np.expand_dims(X_test, -1)\n",
        "\n",
        "print(\"X_train shape:\", X_train.shape)\n",
        "print(X_train.shape[0], \" exemplos para treinamento\")\n",
        "print(X_test.shape[0], \" exemplos para teste\")\n",
        "\n",
        "# Convertendo o target para uma matriz de classes (0 a 9)\n",
        "num_classes = 10\n",
        "y_train = to_categorical(y_train, num_classes)\n",
        "y_test  = to_categorical(y_test, num_classes)"
      ],
      "execution_count": 6,
      "outputs": [
        {
          "output_type": "stream",
          "text": [
            "Downloading data from https://storage.googleapis.com/tensorflow/tf-keras-datasets/mnist.npz\n",
            "11493376/11490434 [==============================] - 0s 0us/step\n",
            "X_train shape: (60000, 28, 28, 1)\n",
            "60000  exemplos para treinamento\n",
            "10000  exemplos para teste\n"
          ],
          "name": "stdout"
        }
      ]
    },
    {
      "cell_type": "markdown",
      "metadata": {
        "id": "1eIDY7lM39ik",
        "colab_type": "text"
      },
      "source": [
        "## Criação e Validação do Modelo"
      ]
    },
    {
      "cell_type": "code",
      "metadata": {
        "id": "y1LzliOwuGQE",
        "colab_type": "code",
        "colab": {
          "base_uri": "https://localhost:8080/",
          "height": 561
        },
        "outputId": "f0841802-662f-47cc-c94f-3627c78ed0c1"
      },
      "source": [
        "# Parametros do modelo\n",
        "input_shape = (28, 28, 1)\n",
        "batch_size  = 128\n",
        "epochs      = 15\n",
        "\n",
        "# Definicao da estrutura do modelo\n",
        "model_cnn = Sequential()\n",
        "model_cnn.add(Conv2D(filters = 32, kernel_size = (5,5),padding = 'Same', activation ='relu', input_shape = (28,28,1)))\n",
        "model_cnn.add(Conv2D(filters = 32, kernel_size = (5,5),padding = 'Same', activation ='relu'))\n",
        "model_cnn.add(MaxPool2D(pool_size=(2,2)))\n",
        "model_cnn.add(Dropout(0.25))\n",
        "\n",
        "model_cnn.add(Conv2D(filters = 64, kernel_size = (3,3),padding = 'Same', activation ='relu'))\n",
        "model_cnn.add(Conv2D(filters = 64, kernel_size = (3,3),padding = 'Same', activation ='relu'))\n",
        "model_cnn.add(MaxPool2D(pool_size=(2,2), strides=(2,2)))\n",
        "model_cnn.add(Dropout(0.25))\n",
        "\n",
        "model_cnn.add(Flatten())\n",
        "model_cnn.add(Dense(256, activation = \"relu\"))\n",
        "model_cnn.add(Dropout(0.5))\n",
        "model_cnn.add(Dense(10, activation = \"softmax\"))\n",
        "\n",
        "# Instanciando a funcao de perda e a metrica de desempenho\n",
        "model_cnn.compile(loss=\"categorical_crossentropy\", optimizer=\"adam\", metrics=[\"accuracy\"])\n",
        "\n",
        "# Exibindo o resumo\n",
        "model_cnn.summary()"
      ],
      "execution_count": 7,
      "outputs": [
        {
          "output_type": "stream",
          "text": [
            "Model: \"sequential_1\"\n",
            "_________________________________________________________________\n",
            "Layer (type)                 Output Shape              Param #   \n",
            "=================================================================\n",
            "conv2d_1 (Conv2D)            (None, 28, 28, 32)        832       \n",
            "_________________________________________________________________\n",
            "conv2d_2 (Conv2D)            (None, 28, 28, 32)        25632     \n",
            "_________________________________________________________________\n",
            "max_pooling2d_1 (MaxPooling2 (None, 14, 14, 32)        0         \n",
            "_________________________________________________________________\n",
            "dropout_1 (Dropout)          (None, 14, 14, 32)        0         \n",
            "_________________________________________________________________\n",
            "conv2d_3 (Conv2D)            (None, 14, 14, 64)        18496     \n",
            "_________________________________________________________________\n",
            "conv2d_4 (Conv2D)            (None, 14, 14, 64)        36928     \n",
            "_________________________________________________________________\n",
            "max_pooling2d_2 (MaxPooling2 (None, 7, 7, 64)          0         \n",
            "_________________________________________________________________\n",
            "dropout_2 (Dropout)          (None, 7, 7, 64)          0         \n",
            "_________________________________________________________________\n",
            "flatten_1 (Flatten)          (None, 3136)              0         \n",
            "_________________________________________________________________\n",
            "dense_1 (Dense)              (None, 256)               803072    \n",
            "_________________________________________________________________\n",
            "dropout_3 (Dropout)          (None, 256)               0         \n",
            "_________________________________________________________________\n",
            "dense_2 (Dense)              (None, 10)                2570      \n",
            "=================================================================\n",
            "Total params: 887,530\n",
            "Trainable params: 887,530\n",
            "Non-trainable params: 0\n",
            "_________________________________________________________________\n"
          ],
          "name": "stdout"
        }
      ]
    },
    {
      "cell_type": "code",
      "metadata": {
        "id": "1ND7ztIRuYz7",
        "colab_type": "code",
        "colab": {
          "base_uri": "https://localhost:8080/",
          "height": 561
        },
        "outputId": "902b63d6-118b-48d0-beb5-704a4266d9d6"
      },
      "source": [
        "# Realizando o treinamento do modelo CNN\n",
        "model_cnn.fit(X_train, y_train, batch_size=batch_size, epochs=epochs, validation_split=0.1)"
      ],
      "execution_count": 8,
      "outputs": [
        {
          "output_type": "stream",
          "text": [
            "Train on 54000 samples, validate on 6000 samples\n",
            "Epoch 1/15\n",
            "54000/54000 [==============================] - 355s 7ms/step - loss: 0.2471 - accuracy: 0.9211 - val_loss: 0.0472 - val_accuracy: 0.9865\n",
            "Epoch 2/15\n",
            "54000/54000 [==============================] - 360s 7ms/step - loss: 0.0752 - accuracy: 0.9776 - val_loss: 0.0356 - val_accuracy: 0.9898\n",
            "Epoch 3/15\n",
            "54000/54000 [==============================] - 356s 7ms/step - loss: 0.0523 - accuracy: 0.9845 - val_loss: 0.0295 - val_accuracy: 0.9915\n",
            "Epoch 4/15\n",
            "54000/54000 [==============================] - 361s 7ms/step - loss: 0.0427 - accuracy: 0.9871 - val_loss: 0.0287 - val_accuracy: 0.9927\n",
            "Epoch 5/15\n",
            "54000/54000 [==============================] - 354s 7ms/step - loss: 0.0366 - accuracy: 0.9888 - val_loss: 0.0273 - val_accuracy: 0.9928\n",
            "Epoch 6/15\n",
            "54000/54000 [==============================] - 361s 7ms/step - loss: 0.0330 - accuracy: 0.9894 - val_loss: 0.0262 - val_accuracy: 0.9920\n",
            "Epoch 7/15\n",
            "54000/54000 [==============================] - 356s 7ms/step - loss: 0.0296 - accuracy: 0.9908 - val_loss: 0.0283 - val_accuracy: 0.9925\n",
            "Epoch 8/15\n",
            "54000/54000 [==============================] - 361s 7ms/step - loss: 0.0265 - accuracy: 0.9919 - val_loss: 0.0298 - val_accuracy: 0.9932\n",
            "Epoch 9/15\n",
            "54000/54000 [==============================] - 360s 7ms/step - loss: 0.0258 - accuracy: 0.9916 - val_loss: 0.0261 - val_accuracy: 0.9945\n",
            "Epoch 10/15\n",
            "54000/54000 [==============================] - 357s 7ms/step - loss: 0.0223 - accuracy: 0.9933 - val_loss: 0.0288 - val_accuracy: 0.9933\n",
            "Epoch 11/15\n",
            "54000/54000 [==============================] - 363s 7ms/step - loss: 0.0222 - accuracy: 0.9931 - val_loss: 0.0278 - val_accuracy: 0.9938\n",
            "Epoch 12/15\n",
            "54000/54000 [==============================] - 357s 7ms/step - loss: 0.0195 - accuracy: 0.9939 - val_loss: 0.0260 - val_accuracy: 0.9935\n",
            "Epoch 13/15\n",
            "54000/54000 [==============================] - 355s 7ms/step - loss: 0.0175 - accuracy: 0.9941 - val_loss: 0.0267 - val_accuracy: 0.9940\n",
            "Epoch 14/15\n",
            "54000/54000 [==============================] - 359s 7ms/step - loss: 0.0186 - accuracy: 0.9940 - val_loss: 0.0259 - val_accuracy: 0.9955\n",
            "Epoch 15/15\n",
            "54000/54000 [==============================] - 364s 7ms/step - loss: 0.0174 - accuracy: 0.9946 - val_loss: 0.0202 - val_accuracy: 0.9955\n"
          ],
          "name": "stdout"
        },
        {
          "output_type": "execute_result",
          "data": {
            "text/plain": [
              "<keras.callbacks.callbacks.History at 0x7f967a2aecc0>"
            ]
          },
          "metadata": {
            "tags": []
          },
          "execution_count": 8
        }
      ]
    },
    {
      "cell_type": "code",
      "metadata": {
        "id": "mDNgTwth7S7h",
        "colab_type": "code",
        "colab": {
          "base_uri": "https://localhost:8080/",
          "height": 51
        },
        "outputId": "a0913c16-d8fd-48e5-c509-a047e6fa1755"
      },
      "source": [
        "# Avaliando o desempenho do modelo CNN com dados de teste\n",
        "score = model_cnn.evaluate(X_test, y_test, verbose=0)\n",
        "print(\"Test loss:\", score[0])\n",
        "print(\"Test accuracy:\", score[1])"
      ],
      "execution_count": 9,
      "outputs": [
        {
          "output_type": "stream",
          "text": [
            "Test loss: 0.014404835235855984\n",
            "Test accuracy: 0.9952999949455261\n"
          ],
          "name": "stdout"
        }
      ]
    },
    {
      "cell_type": "code",
      "metadata": {
        "id": "EfdDjVUxO8sL",
        "colab_type": "code",
        "colab": {
          "base_uri": "https://localhost:8080/",
          "height": 311
        },
        "outputId": "b36bffde-8dd7-4497-a2a1-9d8009b14e65"
      },
      "source": [
        "# Plot da Confusion Matrix\n",
        "def plot_confusion_matrix(cm, classes, normalize=False, title='Confusion Matrix', cmap=plt.cm.Blues):\n",
        "    \"\"\"\n",
        "    This function prints and plots the confusion matrix.\n",
        "    Normalization can be applied by setting `normalize=True`.\n",
        "    \"\"\"\n",
        "    plt.imshow(cm, interpolation='nearest', cmap=cmap)\n",
        "    plt.title(title)\n",
        "    plt.colorbar()\n",
        "    tick_marks = np.arange(len(classes))\n",
        "    plt.xticks(tick_marks, classes, rotation=45)\n",
        "    plt.yticks(tick_marks, classes)\n",
        "\n",
        "    if normalize:\n",
        "        cm = cm.astype('float') / cm.sum(axis=1)[:, np.newaxis]\n",
        "\n",
        "    thresh = cm.max() / 2.\n",
        "    for i, j in itertools.product(range(cm.shape[0]), range(cm.shape[1])):\n",
        "        plt.text(j, i, cm[i, j],\n",
        "                 horizontalalignment=\"center\",\n",
        "                 color=\"white\" if cm[i, j] > thresh else \"black\")\n",
        "\n",
        "    plt.tight_layout()\n",
        "    plt.ylabel('True label')\n",
        "    plt.xlabel('Predicted label')\n",
        "\n",
        "# Realiza as previsoes com o dataset de teste\n",
        "y_pred = model_cnn.predict(X_test)\n",
        "\n",
        "# Converte as previsoes em vetores one hot\n",
        "y_pred_classes = np.argmax(y_pred, axis = 1) \n",
        "\n",
        "# Converte as observacoes em vetores one hot\n",
        "y_true = np.argmax(y_test, axis = 1) \n",
        "\n",
        "# Executa a matriz de confusao\n",
        "confusion_mtx = confusion_matrix(y_true, y_pred_classes) \n",
        "\n",
        "# Exibindo a matriz de confusao\n",
        "plot_confusion_matrix(confusion_mtx, classes = range(10))\n"
      ],
      "execution_count": 10,
      "outputs": [
        {
          "output_type": "display_data",
          "data": {
            "image/png": "[encoded data removed]",
            "text/plain": [
              "<Figure size 432x288 with 2 Axes>"
            ]
          },
          "metadata": {
            "tags": [],
            "needs_background": "light"
          }
        }
      ]
    },
    {
      "cell_type": "markdown",
      "metadata": {
        "id": "EvVLdIAfPBVj",
        "colab_type": "text"
      },
      "source": [
        "## Convolutional Neural Network Otimizada"
      ]
    },
    {
      "cell_type": "code",
      "metadata": {
        "id": "mW58PC00PDFh",
        "colab_type": "code",
        "colab": {}
      },
      "source": [
        "# Configurando a reducao automatica da taxa de aprendizado\n",
        "learning_rate_reduction = ReduceLROnPlateau(monitor  = 'val_acc', \n",
        "                                            patience = 3, \n",
        "                                            verbose  = 1, \n",
        "                                            factor   = 0.5, \n",
        "                                            min_lr   = 0.00001)"
      ],
      "execution_count": 11,
      "outputs": []
    },
    {
      "cell_type": "code",
      "metadata": {
        "id": "s9KQmOTbPHVn",
        "colab_type": "code",
        "colab": {}
      },
      "source": [
        "# Gerando novos dados com a técnica 'data augmentation'\n",
        "datagen = ImageDataGenerator(featurewise_center            = False,\n",
        "                             samplewise_center             = False,\n",
        "                             featurewise_std_normalization = False,\n",
        "                             samplewise_std_normalization  = False,\n",
        "                             zca_whitening                 = False,\n",
        "                             rotation_range                = 10,\n",
        "                             zoom_range                    = 0.1,\n",
        "                             width_shift_range             = 0.1,\n",
        "                             height_shift_range            = 0.1,\n",
        "                             horizontal_flip               = False,\n",
        "                             vertical_flip                 = False)\n",
        "\n",
        "datagen.fit(X_train)"
      ],
      "execution_count": 12,
      "outputs": []
    },
    {
      "cell_type": "code",
      "metadata": {
        "id": "_U7WWJydPNvP",
        "colab_type": "code",
        "colab": {}
      },
      "source": [
        "# Observacao: esta célula demora muito para ser executada\n",
        "# Recomendo rodar esse otimizador em um computador com GPU\n",
        "\n",
        "#epochs = 30\n",
        "\n",
        "# Treinamento do modelo otimizado\n",
        "#history = model_cnn.fit_generator(datagen.flow(X_train,y_train, batch_size=batch_size),\n",
        "#                                  epochs = epochs, \n",
        "#                                  validation_data = (X_test, y_test),\n",
        "#                                  verbose = 2, \n",
        "#                                  steps_per_epoch = X_train.shape[0],\n",
        "#                                  callbacks=[learning_rate_reduction])"
      ],
      "execution_count": 13,
      "outputs": []
    }
  ]
}