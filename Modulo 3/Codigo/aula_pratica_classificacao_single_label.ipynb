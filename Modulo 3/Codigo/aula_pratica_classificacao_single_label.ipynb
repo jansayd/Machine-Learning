{
 "cells": [
  {
   "cell_type": "code",
   "execution_count": 60,
   "metadata": {},
   "outputs": [],
   "source": [
    "# carregando o dataset\n",
    "from sklearn.datasets import load_wine\n",
    "wine = load_wine()"
   ]
  },
  {
   "cell_type": "code",
   "execution_count": 61,
   "metadata": {},
   "outputs": [],
   "source": [
    "# exemplos de acessos aos dados\n",
    "x = wine.data[:, :] # features de cada elemento\n",
    "y = wine.target # classes de cada elemento"
   ]
  },
  {
   "cell_type": "code",
   "execution_count": 62,
   "metadata": {},
   "outputs": [],
   "source": [
    "# dividando os dados entre treino e teste\n",
    "from sklearn.model_selection import train_test_split\n",
    "x_train, x_test, y_train, y_test = train_test_split(x, y, test_size = 0.33, random_state = 42)"
   ]
  },
  {
   "cell_type": "code",
   "execution_count": 63,
   "metadata": {},
   "outputs": [],
   "source": [
    "# aplicando o modelo Random Forest\n",
    "from  sklearn.ensemble import RandomForestClassifier\n",
    "rfc = RandomForestClassifier()\n",
    "rfc.fit(x_train, y_train)\n",
    "y_pred = rfc.predict(x_test)"
   ]
  },
  {
   "cell_type": "code",
   "execution_count": 64,
   "metadata": {},
   "outputs": [],
   "source": [
    "# metricas do Random Forest\n",
    "from sklearn.metrics import accuracy_score, recall_score, precision_score\n",
    "rfc_acc = round(accuracy_score(y_test, y_pred), 6) \n",
    "rfc_recall = round(recall_score(y_test, y_pred, average = 'weighted'), 6)\n",
    "rfc_precision = round(precision_score(y_test, y_pred, average = 'weighted'), 6)"
   ]
  },
  {
   "cell_type": "code",
   "execution_count": 65,
   "metadata": {},
   "outputs": [],
   "source": [
    "# aplicando o modelo KNN\n",
    "from sklearn.neighbors import KNeighborsClassifier\n",
    "knn = KNeighborsClassifier(n_neighbors = 3)\n",
    "knn.fit(x_train, y_train)\n",
    "y_pred = knn.predict(x_test)"
   ]
  },
  {
   "cell_type": "code",
   "execution_count": 66,
   "metadata": {},
   "outputs": [],
   "source": [
    "# metricas do KNN\n",
    "knn_acc = round(accuracy_score(y_test, y_pred), 6) \n",
    "knn_recall = round(recall_score(y_test, y_pred, average = 'weighted'), 6)\n",
    "knn_precision = round(precision_score(y_test, y_pred, average = 'weighted'), 6)"
   ]
  },
  {
   "cell_type": "code",
   "execution_count": 67,
   "metadata": {},
   "outputs": [
    {
     "output_type": "stream",
     "name": "stdout",
     "text": "KNN vs Random Forest\n\nClasses: ['class_0' 'class_1' 'class_2']\nAcurácia: 0.694915 vs 1.0\nRecall: 0.694915 vs 1.0\nPrecisão: 0.698231 vs 1.0\n"
    }
   ],
   "source": [
    "# comparação dos modelos\n",
    "print('KNN vs Random Forest\\n')\n",
    "print('Classes: {0}' .format(wine.target_names))\n",
    "print('Acurácia: {0} vs {1}' .format(knn_acc, rfc_acc))\n",
    "print('Recall: {0} vs {1}' .format(knn_recall, rfc_recall))\n",
    "print('Precisão: {0} vs {1}' .format(knn_precision, rfc_precision))"
   ]
  }
 ],
 "metadata": {
  "language_info": {
   "codemirror_mode": {
    "name": "ipython",
    "version": 3
   },
   "file_extension": ".py",
   "mimetype": "text/x-python",
   "name": "python",
   "nbconvert_exporter": "python",
   "pygments_lexer": "ipython3",
   "version": "3.7.6-final"
  },
  "orig_nbformat": 2,
  "kernelspec": {
   "name": "python37664bitbasecondae1797f1665a5401db9a5814b5ddc2edc",
   "display_name": "Python 3.7.6 64-bit ('base': conda)"
  }
 },
 "nbformat": 4,
 "nbformat_minor": 2
}