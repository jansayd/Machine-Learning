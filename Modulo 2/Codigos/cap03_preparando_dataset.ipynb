{
 "cells": [
  {
   "cell_type": "code",
   "execution_count": 2,
   "metadata": {},
   "outputs": [],
   "source": [
    "import numpy as np\n",
    "import pandas as pd\n",
    "import datetime "
   ]
  },
  {
   "cell_type": "markdown",
   "metadata": {},
   "source": [
    "## Dataset British Flickr"
   ]
  },
  {
   "cell_type": "code",
   "execution_count": 2,
   "metadata": {},
   "outputs": [],
   "source": [
    "# importando o dataset\n",
    "df_flickr_book = pd.read_csv('Dataset/BL-Flickr-Images-Book.csv')"
   ]
  },
  {
   "cell_type": "code",
   "execution_count": 3,
   "metadata": {},
   "outputs": [
    {
     "output_type": "execute_result",
     "data": {
      "text/plain": "   Identifier             Edition Statement      Place of Publication  \\\n0         206                           NaN                    London   \n1         216                           NaN  London; Virtue & Yorston   \n2         218                           NaN                    London   \n3         472                           NaN                    London   \n4         480  A new edition, revised, etc.                    London   \n\n  Date of Publication              Publisher  \\\n0         1879 [1878]       S. Tinsley & Co.   \n1                1868           Virtue & Co.   \n2                1869  Bradbury, Evans & Co.   \n3                1851          James Darling   \n4                1857   Wertheim & Macintosh   \n\n                                               Title     Author  \\\n0                  Walter Forbes. [A novel.] By A. A      A. A.   \n1  All for Greed. [A novel. The dedication signed...  A., A. A.   \n2  Love the Avenger. By the author of “All for Gr...  A., A. A.   \n3  Welsh Sketches, chiefly ecclesiastical, to the...  A., E. S.   \n4  [The World in which I live, and my place in it...  A., E. S.   \n\n                                   Contributors  Corporate Author  \\\n0                               FORBES, Walter.               NaN   \n1  BLAZE DE BURY, Marie Pauline Rose - Baroness               NaN   \n2  BLAZE DE BURY, Marie Pauline Rose - Baroness               NaN   \n3                   Appleyard, Ernest Silvanus.               NaN   \n4                           BROOME, John Henry.               NaN   \n\n   Corporate Contributors Former owner  Engraver Issuance type  \\\n0                     NaN          NaN       NaN   monographic   \n1                     NaN          NaN       NaN   monographic   \n2                     NaN          NaN       NaN   monographic   \n3                     NaN          NaN       NaN   monographic   \n4                     NaN          NaN       NaN   monographic   \n\n                                          Flickr URL  \\\n0  http://www.flickr.com/photos/britishlibrary/ta...   \n1  http://www.flickr.com/photos/britishlibrary/ta...   \n2  http://www.flickr.com/photos/britishlibrary/ta...   \n3  http://www.flickr.com/photos/britishlibrary/ta...   \n4  http://www.flickr.com/photos/britishlibrary/ta...   \n\n                            Shelfmarks  \n0    British Library HMNTS 12641.b.30.  \n1    British Library HMNTS 12626.cc.2.  \n2    British Library HMNTS 12625.dd.1.  \n3  British Library HMNTS 10369.bbb.15.  \n4     British Library HMNTS 9007.d.28.  ",
      "text/html": "<div>\n<style scoped>\n    .dataframe tbody tr th:only-of-type {\n        vertical-align: middle;\n    }\n\n    .dataframe tbody tr th {\n        vertical-align: top;\n    }\n\n    .dataframe thead th {\n        text-align: right;\n    }\n</style>\n<table border=\"1\" class=\"dataframe\">\n  <thead>\n    <tr style=\"text-align: right;\">\n      <th></th>\n      <th>Identifier</th>\n      <th>Edition Statement</th>\n      <th>Place of Publication</th>\n      <th>Date of Publication</th>\n      <th>Publisher</th>\n      <th>Title</th>\n      <th>Author</th>\n      <th>Contributors</th>\n      <th>Corporate Author</th>\n      <th>Corporate Contributors</th>\n      <th>Former owner</th>\n      <th>Engraver</th>\n      <th>Issuance type</th>\n      <th>Flickr URL</th>\n      <th>Shelfmarks</th>\n    </tr>\n  </thead>\n  <tbody>\n    <tr>\n      <th>0</th>\n      <td>206</td>\n      <td>NaN</td>\n      <td>London</td>\n      <td>1879 [1878]</td>\n      <td>S. Tinsley &amp; Co.</td>\n      <td>Walter Forbes. [A novel.] By A. A</td>\n      <td>A. A.</td>\n      <td>FORBES, Walter.</td>\n      <td>NaN</td>\n      <td>NaN</td>\n      <td>NaN</td>\n      <td>NaN</td>\n      <td>monographic</td>\n      <td>http://www.flickr.com/photos/britishlibrary/ta...</td>\n      <td>British Library HMNTS 12641.b.30.</td>\n    </tr>\n    <tr>\n      <th>1</th>\n      <td>216</td>\n      <td>NaN</td>\n      <td>London; Virtue &amp; Yorston</td>\n      <td>1868</td>\n      <td>Virtue &amp; Co.</td>\n      <td>All for Greed. [A novel. The dedication signed...</td>\n      <td>A., A. A.</td>\n      <td>BLAZE DE BURY, Marie Pauline Rose - Baroness</td>\n      <td>NaN</td>\n      <td>NaN</td>\n      <td>NaN</td>\n      <td>NaN</td>\n      <td>monographic</td>\n      <td>http://www.flickr.com/photos/britishlibrary/ta...</td>\n      <td>British Library HMNTS 12626.cc.2.</td>\n    </tr>\n    <tr>\n      <th>2</th>\n      <td>218</td>\n      <td>NaN</td>\n      <td>London</td>\n      <td>1869</td>\n      <td>Bradbury, Evans &amp; Co.</td>\n      <td>Love the Avenger. By the author of “All for Gr...</td>\n      <td>A., A. A.</td>\n      <td>BLAZE DE BURY, Marie Pauline Rose - Baroness</td>\n      <td>NaN</td>\n      <td>NaN</td>\n      <td>NaN</td>\n      <td>NaN</td>\n      <td>monographic</td>\n      <td>http://www.flickr.com/photos/britishlibrary/ta...</td>\n      <td>British Library HMNTS 12625.dd.1.</td>\n    </tr>\n    <tr>\n      <th>3</th>\n      <td>472</td>\n      <td>NaN</td>\n      <td>London</td>\n      <td>1851</td>\n      <td>James Darling</td>\n      <td>Welsh Sketches, chiefly ecclesiastical, to the...</td>\n      <td>A., E. S.</td>\n      <td>Appleyard, Ernest Silvanus.</td>\n      <td>NaN</td>\n      <td>NaN</td>\n      <td>NaN</td>\n      <td>NaN</td>\n      <td>monographic</td>\n      <td>http://www.flickr.com/photos/britishlibrary/ta...</td>\n      <td>British Library HMNTS 10369.bbb.15.</td>\n    </tr>\n    <tr>\n      <th>4</th>\n      <td>480</td>\n      <td>A new edition, revised, etc.</td>\n      <td>London</td>\n      <td>1857</td>\n      <td>Wertheim &amp; Macintosh</td>\n      <td>[The World in which I live, and my place in it...</td>\n      <td>A., E. S.</td>\n      <td>BROOME, John Henry.</td>\n      <td>NaN</td>\n      <td>NaN</td>\n      <td>NaN</td>\n      <td>NaN</td>\n      <td>monographic</td>\n      <td>http://www.flickr.com/photos/britishlibrary/ta...</td>\n      <td>British Library HMNTS 9007.d.28.</td>\n    </tr>\n  </tbody>\n</table>\n</div>"
     },
     "metadata": {},
     "execution_count": 3
    }
   ],
   "source": [
    "# conhecendo o df\n",
    "df_flickr_book.head()"
   ]
  },
  {
   "cell_type": "code",
   "execution_count": 4,
   "metadata": {},
   "outputs": [
    {
     "output_type": "stream",
     "name": "stdout",
     "text": "<class 'pandas.core.frame.DataFrame'>\nRangeIndex: 8287 entries, 0 to 8286\nData columns (total 15 columns):\n #   Column                  Non-Null Count  Dtype  \n---  ------                  --------------  -----  \n 0   Identifier              8287 non-null   int64  \n 1   Edition Statement       773 non-null    object \n 2   Place of Publication    8287 non-null   object \n 3   Date of Publication     8106 non-null   object \n 4   Publisher               4092 non-null   object \n 5   Title                   8287 non-null   object \n 6   Author                  6509 non-null   object \n 7   Contributors            8287 non-null   object \n 8   Corporate Author        0 non-null      float64\n 9   Corporate Contributors  0 non-null      float64\n 10  Former owner            1 non-null      object \n 11  Engraver                0 non-null      float64\n 12  Issuance type           8287 non-null   object \n 13  Flickr URL              8287 non-null   object \n 14  Shelfmarks              8287 non-null   object \ndtypes: float64(3), int64(1), object(11)\nmemory usage: 971.3+ KB\n"
    }
   ],
   "source": [
    "# informações sobre o df \n",
    "df_flickr_book.info()"
   ]
  },
  {
   "cell_type": "code",
   "execution_count": 5,
   "metadata": {},
   "outputs": [],
   "source": [
    "# realizando o drop de algumas colunas\n",
    "colunas_drop = ['Edition Statement', 'Corporate Author', 'Corporate Contributors', 'Former owner', 'Engraver', 'Contributors', 'Issuance type', 'Shelfmarks']\n",
    "df_flickr_book.drop(columns = colunas_drop, axis = 1, inplace = True)"
   ]
  },
  {
   "cell_type": "code",
   "execution_count": 6,
   "metadata": {},
   "outputs": [
    {
     "output_type": "execute_result",
     "data": {
      "text/plain": "   Identifier      Place of Publication Date of Publication  \\\n0         206                    London         1879 [1878]   \n1         216  London; Virtue & Yorston                1868   \n2         218                    London                1869   \n3         472                    London                1851   \n4         480                    London                1857   \n\n               Publisher                                              Title  \\\n0       S. Tinsley & Co.                  Walter Forbes. [A novel.] By A. A   \n1           Virtue & Co.  All for Greed. [A novel. The dedication signed...   \n2  Bradbury, Evans & Co.  Love the Avenger. By the author of “All for Gr...   \n3          James Darling  Welsh Sketches, chiefly ecclesiastical, to the...   \n4   Wertheim & Macintosh  [The World in which I live, and my place in it...   \n\n      Author                                         Flickr URL  \n0      A. A.  http://www.flickr.com/photos/britishlibrary/ta...  \n1  A., A. A.  http://www.flickr.com/photos/britishlibrary/ta...  \n2  A., A. A.  http://www.flickr.com/photos/britishlibrary/ta...  \n3  A., E. S.  http://www.flickr.com/photos/britishlibrary/ta...  \n4  A., E. S.  http://www.flickr.com/photos/britishlibrary/ta...  ",
      "text/html": "<div>\n<style scoped>\n    .dataframe tbody tr th:only-of-type {\n        vertical-align: middle;\n    }\n\n    .dataframe tbody tr th {\n        vertical-align: top;\n    }\n\n    .dataframe thead th {\n        text-align: right;\n    }\n</style>\n<table border=\"1\" class=\"dataframe\">\n  <thead>\n    <tr style=\"text-align: right;\">\n      <th></th>\n      <th>Identifier</th>\n      <th>Place of Publication</th>\n      <th>Date of Publication</th>\n      <th>Publisher</th>\n      <th>Title</th>\n      <th>Author</th>\n      <th>Flickr URL</th>\n    </tr>\n  </thead>\n  <tbody>\n    <tr>\n      <th>0</th>\n      <td>206</td>\n      <td>London</td>\n      <td>1879 [1878]</td>\n      <td>S. Tinsley &amp; Co.</td>\n      <td>Walter Forbes. [A novel.] By A. A</td>\n      <td>A. A.</td>\n      <td>http://www.flickr.com/photos/britishlibrary/ta...</td>\n    </tr>\n    <tr>\n      <th>1</th>\n      <td>216</td>\n      <td>London; Virtue &amp; Yorston</td>\n      <td>1868</td>\n      <td>Virtue &amp; Co.</td>\n      <td>All for Greed. [A novel. The dedication signed...</td>\n      <td>A., A. A.</td>\n      <td>http://www.flickr.com/photos/britishlibrary/ta...</td>\n    </tr>\n    <tr>\n      <th>2</th>\n      <td>218</td>\n      <td>London</td>\n      <td>1869</td>\n      <td>Bradbury, Evans &amp; Co.</td>\n      <td>Love the Avenger. By the author of “All for Gr...</td>\n      <td>A., A. A.</td>\n      <td>http://www.flickr.com/photos/britishlibrary/ta...</td>\n    </tr>\n    <tr>\n      <th>3</th>\n      <td>472</td>\n      <td>London</td>\n      <td>1851</td>\n      <td>James Darling</td>\n      <td>Welsh Sketches, chiefly ecclesiastical, to the...</td>\n      <td>A., E. S.</td>\n      <td>http://www.flickr.com/photos/britishlibrary/ta...</td>\n    </tr>\n    <tr>\n      <th>4</th>\n      <td>480</td>\n      <td>London</td>\n      <td>1857</td>\n      <td>Wertheim &amp; Macintosh</td>\n      <td>[The World in which I live, and my place in it...</td>\n      <td>A., E. S.</td>\n      <td>http://www.flickr.com/photos/britishlibrary/ta...</td>\n    </tr>\n  </tbody>\n</table>\n</div>"
     },
     "metadata": {},
     "execution_count": 6
    }
   ],
   "source": [
    "df_flickr_book.head()"
   ]
  },
  {
   "cell_type": "code",
   "execution_count": 10,
   "metadata": {},
   "outputs": [
    {
     "output_type": "stream",
     "name": "stdout",
     "text": "<class 'pandas.core.frame.DataFrame'>\nRangeIndex: 8287 entries, 0 to 8286\nData columns (total 7 columns):\n #   Column                Non-Null Count  Dtype \n---  ------                --------------  ----- \n 0   Identifier            8287 non-null   int64 \n 1   Place of Publication  8287 non-null   object\n 2   Date of Publication   8106 non-null   object\n 3   Publisher             4092 non-null   object\n 4   Title                 8287 non-null   object\n 5   Author                6509 non-null   object\n 6   Flickr URL            8287 non-null   object\ndtypes: int64(1), object(6)\nmemory usage: 453.3+ KB\n"
    }
   ],
   "source": [
    "df_flickr_book.info()"
   ]
  },
  {
   "cell_type": "code",
   "execution_count": 15,
   "metadata": {},
   "outputs": [
    {
     "output_type": "stream",
     "name": "stdout",
     "text": "True\n8287\n"
    }
   ],
   "source": [
    "# verificando de existe valor unico para o dataset(chave)\n",
    "# True - Quer dizer que todos os valores são unicos para a coluna Identifier\n",
    "print(df_flickr_book['Identifier'].is_unique)\n",
    "\n",
    "# contando a quantidade de valores unicos \n",
    "print(df_flickr_book['Identifier'].nunique())"
   ]
  },
  {
   "cell_type": "code",
   "execution_count": 19,
   "metadata": {},
   "outputs": [
    {
     "output_type": "execute_result",
     "data": {
      "text/plain": "1905         1879\n1906         1886\n1907         1844\n1908    1861-1909\n1909         1884\n1910         1885\n1911         1834\n1912         1837\n1913         1867\n1914         1830\nName: Date of Publication, dtype: object"
     },
     "metadata": {},
     "execution_count": 19
    }
   ],
   "source": [
    "# seleciona as linhas que contem a data de publicação do indice 1905 até o final\n",
    "df_flickr_book.loc[1905:, 'Date of Publication'].head(10) "
   ]
  },
  {
   "cell_type": "code",
   "execution_count": 21,
   "metadata": {},
   "outputs": [],
   "source": [
    "# tratando a coluna Data of Publication de cada um dos livros atraves de expressões regulares\n",
    "expre_regular = r'^(\\d{4})' # define a expressão regular que deve ser utilizada para cada uma das linhas (encontra o conjunto com 4 digitos)\n",
    "extr = df_flickr_book['Date of Publication'].str.extract(expre_regular, expand = False) # aplica o modelo de extração atraves de expressão regular definida"
   ]
  },
  {
   "cell_type": "code",
   "execution_count": 22,
   "metadata": {},
   "outputs": [
    {
     "output_type": "execute_result",
     "data": {
      "text/plain": "1905    1879\n1906    1886\n1907    1844\n1908    1861\n1909    1884\n        ... \n8282    1838\n8283    1831\n8284     NaN\n8285    1834\n8286    1834\nName: Date of Publication, Length: 6382, dtype: object"
     },
     "metadata": {},
     "execution_count": 22
    }
   ],
   "source": [
    "extr[1905:]"
   ]
  },
  {
   "cell_type": "code",
   "execution_count": 23,
   "metadata": {},
   "outputs": [],
   "source": [
    "# aplicando no dataset e convertendo para numerico\n",
    "df_flickr_book['Date of Publication'] = pd.to_numeric(extr)"
   ]
  },
  {
   "cell_type": "code",
   "execution_count": 24,
   "metadata": {},
   "outputs": [
    {
     "output_type": "stream",
     "name": "stdout",
     "text": "<class 'pandas.core.frame.DataFrame'>\nRangeIndex: 8287 entries, 0 to 8286\nData columns (total 7 columns):\n #   Column                Non-Null Count  Dtype  \n---  ------                --------------  -----  \n 0   Identifier            8287 non-null   int64  \n 1   Place of Publication  8287 non-null   object \n 2   Date of Publication   7316 non-null   float64\n 3   Publisher             4092 non-null   object \n 4   Title                 8287 non-null   object \n 5   Author                6509 non-null   object \n 6   Flickr URL            8287 non-null   object \ndtypes: float64(1), int64(1), object(5)\nmemory usage: 453.3+ KB\n"
    }
   ],
   "source": [
    "df_flickr_book.info()"
   ]
  },
  {
   "cell_type": "code",
   "execution_count": 26,
   "metadata": {},
   "outputs": [
    {
     "output_type": "execute_result",
     "data": {
      "text/plain": "971"
     },
     "metadata": {},
     "execution_count": 26
    }
   ],
   "source": [
    "# contando a quantidade de registros nulos para a coluna Data of Publication\n",
    "df_flickr_book['Date of Publication'].isnull().sum()"
   ]
  },
  {
   "cell_type": "code",
   "execution_count": 27,
   "metadata": {},
   "outputs": [],
   "source": [
    "# dropando os registros com a coluna Data of Publication igual a nulo\n",
    "df_flickr_book.dropna(subset = ['Date of Publication'], inplace = True)\n",
    "df_flickr_book['Date of Publication'] = df_flickr_book['Date of Publication'].astype(int) # convertendo os valores para int"
   ]
  },
  {
   "cell_type": "code",
   "execution_count": 28,
   "metadata": {},
   "outputs": [
    {
     "output_type": "stream",
     "name": "stdout",
     "text": "<class 'pandas.core.frame.DataFrame'>\nInt64Index: 7316 entries, 0 to 8286\nData columns (total 7 columns):\n #   Column                Non-Null Count  Dtype \n---  ------                --------------  ----- \n 0   Identifier            7316 non-null   int64 \n 1   Place of Publication  7316 non-null   object\n 2   Date of Publication   7316 non-null   int32 \n 3   Publisher             3576 non-null   object\n 4   Title                 7316 non-null   object\n 5   Author                5782 non-null   object\n 6   Flickr URL            7316 non-null   object\ndtypes: int32(1), int64(1), object(5)\nmemory usage: 748.7+ KB\n"
    }
   ],
   "source": [
    "df_flickr_book.info()"
   ]
  },
  {
   "cell_type": "code",
   "execution_count": 29,
   "metadata": {},
   "outputs": [
    {
     "output_type": "execute_result",
     "data": {
      "text/plain": "0                       London\n1     London; Virtue & Yorston\n2                       London\n3                       London\n4                       London\n5                       London\n6                       London\n8                      London]\n9                       London\n10                    Coventry\nName: Place of Publication, dtype: object"
     },
     "metadata": {},
     "execution_count": 29
    }
   ],
   "source": [
    "# identificando os locais de publicação dos livrod\n",
    "df_flickr_book['Place of Publication'].head(10)"
   ]
  },
  {
   "cell_type": "code",
   "execution_count": 30,
   "metadata": {},
   "outputs": [
    {
     "output_type": "execute_result",
     "data": {
      "text/plain": "0      True\n1      True\n2      True\n3      True\n4      True\n5      True\n6      True\n8      True\n9      True\n10    False\nName: Place of Publication, dtype: bool"
     },
     "metadata": {},
     "execution_count": 30
    }
   ],
   "source": [
    "# verificando os registros que possuem a cidade London como local de publicação\n",
    "df_flickr_book['Place of Publication'].str.contains('London').head(10)"
   ]
  },
  {
   "cell_type": "code",
   "execution_count": 31,
   "metadata": {},
   "outputs": [],
   "source": [
    "london = df_flickr_book['Place of Publication'].str.contains('London') # cria a serie que contem os vslores True e False para a cidade de London\n",
    "oxford = df_flickr_book['Place of Publication'].str.contains('Oxford') # cria a serie que contem os vslores True e False para a cidade de Oxford"
   ]
  },
  {
   "cell_type": "code",
   "execution_count": 35,
   "metadata": {},
   "outputs": [],
   "source": [
    "# aplica o where para prencher cada uma das sentenças\n",
    "df_flickr_book['Place of Publication'] = np.where(london, 'London', np.where(oxford, 'Oxford', df_flickr_book['Place of Publication'].str.replace('-', '')))"
   ]
  },
  {
   "cell_type": "code",
   "execution_count": 36,
   "metadata": {},
   "outputs": [
    {
     "output_type": "execute_result",
     "data": {
      "text/plain": "   Identifier Place of Publication  Date of Publication  \\\n0         206               London                 1879   \n1         216               London                 1868   \n2         218               London                 1869   \n3         472               London                 1851   \n4         480               London                 1857   \n\n               Publisher                                              Title  \\\n0       S. Tinsley & Co.                  Walter Forbes. [A novel.] By A. A   \n1           Virtue & Co.  All for Greed. [A novel. The dedication signed...   \n2  Bradbury, Evans & Co.  Love the Avenger. By the author of “All for Gr...   \n3          James Darling  Welsh Sketches, chiefly ecclesiastical, to the...   \n4   Wertheim & Macintosh  [The World in which I live, and my place in it...   \n\n      Author                                         Flickr URL  \n0      A. A.  http://www.flickr.com/photos/britishlibrary/ta...  \n1  A., A. A.  http://www.flickr.com/photos/britishlibrary/ta...  \n2  A., A. A.  http://www.flickr.com/photos/britishlibrary/ta...  \n3  A., E. S.  http://www.flickr.com/photos/britishlibrary/ta...  \n4  A., E. S.  http://www.flickr.com/photos/britishlibrary/ta...  ",
      "text/html": "<div>\n<style scoped>\n    .dataframe tbody tr th:only-of-type {\n        vertical-align: middle;\n    }\n\n    .dataframe tbody tr th {\n        vertical-align: top;\n    }\n\n    .dataframe thead th {\n        text-align: right;\n    }\n</style>\n<table border=\"1\" class=\"dataframe\">\n  <thead>\n    <tr style=\"text-align: right;\">\n      <th></th>\n      <th>Identifier</th>\n      <th>Place of Publication</th>\n      <th>Date of Publication</th>\n      <th>Publisher</th>\n      <th>Title</th>\n      <th>Author</th>\n      <th>Flickr URL</th>\n    </tr>\n  </thead>\n  <tbody>\n    <tr>\n      <th>0</th>\n      <td>206</td>\n      <td>London</td>\n      <td>1879</td>\n      <td>S. Tinsley &amp; Co.</td>\n      <td>Walter Forbes. [A novel.] By A. A</td>\n      <td>A. A.</td>\n      <td>http://www.flickr.com/photos/britishlibrary/ta...</td>\n    </tr>\n    <tr>\n      <th>1</th>\n      <td>216</td>\n      <td>London</td>\n      <td>1868</td>\n      <td>Virtue &amp; Co.</td>\n      <td>All for Greed. [A novel. The dedication signed...</td>\n      <td>A., A. A.</td>\n      <td>http://www.flickr.com/photos/britishlibrary/ta...</td>\n    </tr>\n    <tr>\n      <th>2</th>\n      <td>218</td>\n      <td>London</td>\n      <td>1869</td>\n      <td>Bradbury, Evans &amp; Co.</td>\n      <td>Love the Avenger. By the author of “All for Gr...</td>\n      <td>A., A. A.</td>\n      <td>http://www.flickr.com/photos/britishlibrary/ta...</td>\n    </tr>\n    <tr>\n      <th>3</th>\n      <td>472</td>\n      <td>London</td>\n      <td>1851</td>\n      <td>James Darling</td>\n      <td>Welsh Sketches, chiefly ecclesiastical, to the...</td>\n      <td>A., E. S.</td>\n      <td>http://www.flickr.com/photos/britishlibrary/ta...</td>\n    </tr>\n    <tr>\n      <th>4</th>\n      <td>480</td>\n      <td>London</td>\n      <td>1857</td>\n      <td>Wertheim &amp; Macintosh</td>\n      <td>[The World in which I live, and my place in it...</td>\n      <td>A., E. S.</td>\n      <td>http://www.flickr.com/photos/britishlibrary/ta...</td>\n    </tr>\n  </tbody>\n</table>\n</div>"
     },
     "metadata": {},
     "execution_count": 36
    }
   ],
   "source": [
    "df_flickr_book.head()"
   ]
  },
  {
   "cell_type": "markdown",
   "metadata": {},
   "source": [
    "## Dataset Diabetes"
   ]
  },
  {
   "cell_type": "code",
   "execution_count": 5,
   "metadata": {},
   "outputs": [],
   "source": [
    "pima_dataset = pd.read_csv('Dataset/pima-indians-diabetes.csv', header = None)"
   ]
  },
  {
   "cell_type": "markdown",
   "metadata": {},
   "source": [
    "### Descrição das colunas do Dataset\n",
    "\n",
    "0 - numeros de vezes que ficou gravida\n",
    "\n",
    "1 - concentração de glicose\n",
    "\n",
    "2 - pressão diastolica\n",
    "\n",
    "3 - tickness\n",
    "\n",
    "4 - insulina em jejum\n",
    "\n",
    "5 - indice de massa corporal\n",
    "\n",
    "6 - diabetes function\n",
    "\n",
    "7 - idade\n",
    " \n",
    "8 - possui ou não diabetes (1 ou 0)"
   ]
  },
  {
   "cell_type": "code",
   "execution_count": 6,
   "metadata": {},
   "outputs": [
    {
     "output_type": "execute_result",
     "data": {
      "text/plain": "   0    1   2   3    4     5      6   7  8\n0  6  148  72  35    0  33.6  0.627  50  1\n1  1   85  66  29    0  26.6  0.351  31  0\n2  8  183  64   0    0  23.3  0.672  32  1\n3  1   89  66  23   94  28.1  0.167  21  0\n4  0  137  40  35  168  43.1  2.288  33  1",
      "text/html": "<div>\n<style scoped>\n    .dataframe tbody tr th:only-of-type {\n        vertical-align: middle;\n    }\n\n    .dataframe tbody tr th {\n        vertical-align: top;\n    }\n\n    .dataframe thead th {\n        text-align: right;\n    }\n</style>\n<table border=\"1\" class=\"dataframe\">\n  <thead>\n    <tr style=\"text-align: right;\">\n      <th></th>\n      <th>0</th>\n      <th>1</th>\n      <th>2</th>\n      <th>3</th>\n      <th>4</th>\n      <th>5</th>\n      <th>6</th>\n      <th>7</th>\n      <th>8</th>\n    </tr>\n  </thead>\n  <tbody>\n    <tr>\n      <th>0</th>\n      <td>6</td>\n      <td>148</td>\n      <td>72</td>\n      <td>35</td>\n      <td>0</td>\n      <td>33.6</td>\n      <td>0.627</td>\n      <td>50</td>\n      <td>1</td>\n    </tr>\n    <tr>\n      <th>1</th>\n      <td>1</td>\n      <td>85</td>\n      <td>66</td>\n      <td>29</td>\n      <td>0</td>\n      <td>26.6</td>\n      <td>0.351</td>\n      <td>31</td>\n      <td>0</td>\n    </tr>\n    <tr>\n      <th>2</th>\n      <td>8</td>\n      <td>183</td>\n      <td>64</td>\n      <td>0</td>\n      <td>0</td>\n      <td>23.3</td>\n      <td>0.672</td>\n      <td>32</td>\n      <td>1</td>\n    </tr>\n    <tr>\n      <th>3</th>\n      <td>1</td>\n      <td>89</td>\n      <td>66</td>\n      <td>23</td>\n      <td>94</td>\n      <td>28.1</td>\n      <td>0.167</td>\n      <td>21</td>\n      <td>0</td>\n    </tr>\n    <tr>\n      <th>4</th>\n      <td>0</td>\n      <td>137</td>\n      <td>40</td>\n      <td>35</td>\n      <td>168</td>\n      <td>43.1</td>\n      <td>2.288</td>\n      <td>33</td>\n      <td>1</td>\n    </tr>\n  </tbody>\n</table>\n</div>"
     },
     "metadata": {},
     "execution_count": 6
    }
   ],
   "source": [
    "pima_dataset.head()"
   ]
  },
  {
   "cell_type": "code",
   "execution_count": 7,
   "metadata": {},
   "outputs": [
    {
     "output_type": "stream",
     "name": "stdout",
     "text": "<class 'pandas.core.frame.DataFrame'>\nRangeIndex: 768 entries, 0 to 767\nData columns (total 9 columns):\n #   Column  Non-Null Count  Dtype  \n---  ------  --------------  -----  \n 0   0       768 non-null    int64  \n 1   1       768 non-null    int64  \n 2   2       768 non-null    int64  \n 3   3       768 non-null    int64  \n 4   4       768 non-null    int64  \n 5   5       768 non-null    float64\n 6   6       768 non-null    float64\n 7   7       768 non-null    int64  \n 8   8       768 non-null    int64  \ndtypes: float64(2), int64(7)\nmemory usage: 54.1 KB\n"
    }
   ],
   "source": [
    "pima_dataset.info()"
   ]
  },
  {
   "cell_type": "code",
   "execution_count": 9,
   "metadata": {},
   "outputs": [
    {
     "output_type": "execute_result",
     "data": {
      "text/plain": "                0           1           2           3           4           5  \\\ncount  768.000000  768.000000  768.000000  768.000000  768.000000  768.000000   \nmean     3.845052  120.894531   69.105469   20.536458   79.799479   31.992578   \nstd      3.369578   31.972618   19.355807   15.952218  115.244002    7.884160   \nmin      0.000000    0.000000    0.000000    0.000000    0.000000    0.000000   \n25%      1.000000   99.000000   62.000000    0.000000    0.000000   27.300000   \n50%      3.000000  117.000000   72.000000   23.000000   30.500000   32.000000   \n75%      6.000000  140.250000   80.000000   32.000000  127.250000   36.600000   \nmax     17.000000  199.000000  122.000000   99.000000  846.000000   67.100000   \n\n                6           7           8  \ncount  768.000000  768.000000  768.000000  \nmean     0.471876   33.240885    0.348958  \nstd      0.331329   11.760232    0.476951  \nmin      0.078000   21.000000    0.000000  \n25%      0.243750   24.000000    0.000000  \n50%      0.372500   29.000000    0.000000  \n75%      0.626250   41.000000    1.000000  \nmax      2.420000   81.000000    1.000000  ",
      "text/html": "<div>\n<style scoped>\n    .dataframe tbody tr th:only-of-type {\n        vertical-align: middle;\n    }\n\n    .dataframe tbody tr th {\n        vertical-align: top;\n    }\n\n    .dataframe thead th {\n        text-align: right;\n    }\n</style>\n<table border=\"1\" class=\"dataframe\">\n  <thead>\n    <tr style=\"text-align: right;\">\n      <th></th>\n      <th>0</th>\n      <th>1</th>\n      <th>2</th>\n      <th>3</th>\n      <th>4</th>\n      <th>5</th>\n      <th>6</th>\n      <th>7</th>\n      <th>8</th>\n    </tr>\n  </thead>\n  <tbody>\n    <tr>\n      <th>count</th>\n      <td>768.000000</td>\n      <td>768.000000</td>\n      <td>768.000000</td>\n      <td>768.000000</td>\n      <td>768.000000</td>\n      <td>768.000000</td>\n      <td>768.000000</td>\n      <td>768.000000</td>\n      <td>768.000000</td>\n    </tr>\n    <tr>\n      <th>mean</th>\n      <td>3.845052</td>\n      <td>120.894531</td>\n      <td>69.105469</td>\n      <td>20.536458</td>\n      <td>79.799479</td>\n      <td>31.992578</td>\n      <td>0.471876</td>\n      <td>33.240885</td>\n      <td>0.348958</td>\n    </tr>\n    <tr>\n      <th>std</th>\n      <td>3.369578</td>\n      <td>31.972618</td>\n      <td>19.355807</td>\n      <td>15.952218</td>\n      <td>115.244002</td>\n      <td>7.884160</td>\n      <td>0.331329</td>\n      <td>11.760232</td>\n      <td>0.476951</td>\n    </tr>\n    <tr>\n      <th>min</th>\n      <td>0.000000</td>\n      <td>0.000000</td>\n      <td>0.000000</td>\n      <td>0.000000</td>\n      <td>0.000000</td>\n      <td>0.000000</td>\n      <td>0.078000</td>\n      <td>21.000000</td>\n      <td>0.000000</td>\n    </tr>\n    <tr>\n      <th>25%</th>\n      <td>1.000000</td>\n      <td>99.000000</td>\n      <td>62.000000</td>\n      <td>0.000000</td>\n      <td>0.000000</td>\n      <td>27.300000</td>\n      <td>0.243750</td>\n      <td>24.000000</td>\n      <td>0.000000</td>\n    </tr>\n    <tr>\n      <th>50%</th>\n      <td>3.000000</td>\n      <td>117.000000</td>\n      <td>72.000000</td>\n      <td>23.000000</td>\n      <td>30.500000</td>\n      <td>32.000000</td>\n      <td>0.372500</td>\n      <td>29.000000</td>\n      <td>0.000000</td>\n    </tr>\n    <tr>\n      <th>75%</th>\n      <td>6.000000</td>\n      <td>140.250000</td>\n      <td>80.000000</td>\n      <td>32.000000</td>\n      <td>127.250000</td>\n      <td>36.600000</td>\n      <td>0.626250</td>\n      <td>41.000000</td>\n      <td>1.000000</td>\n    </tr>\n    <tr>\n      <th>max</th>\n      <td>17.000000</td>\n      <td>199.000000</td>\n      <td>122.000000</td>\n      <td>99.000000</td>\n      <td>846.000000</td>\n      <td>67.100000</td>\n      <td>2.420000</td>\n      <td>81.000000</td>\n      <td>1.000000</td>\n    </tr>\n  </tbody>\n</table>\n</div>"
     },
     "metadata": {},
     "execution_count": 9
    }
   ],
   "source": [
    "# resumo estatistico do Dataset\n",
    "pima_dataset.describe()"
   ]
  },
  {
   "cell_type": "code",
   "execution_count": 10,
   "metadata": {},
   "outputs": [
    {
     "output_type": "execute_result",
     "data": {
      "text/plain": "       1   2   3    4     5      6   7\n0    148  72  35    0  33.6  0.627  50\n1     85  66  29    0  26.6  0.351  31\n2    183  64   0    0  23.3  0.672  32\n3     89  66  23   94  28.1  0.167  21\n4    137  40  35  168  43.1  2.288  33\n..   ...  ..  ..  ...   ...    ...  ..\n763  101  76  48  180  32.9  0.171  63\n764  122  70  27    0  36.8  0.340  27\n765  121  72  23  112  26.2  0.245  30\n766  126  60   0    0  30.1  0.349  47\n767   93  70  31    0  30.4  0.315  23\n\n[657 rows x 7 columns]",
      "text/html": "<div>\n<style scoped>\n    .dataframe tbody tr th:only-of-type {\n        vertical-align: middle;\n    }\n\n    .dataframe tbody tr th {\n        vertical-align: top;\n    }\n\n    .dataframe thead th {\n        text-align: right;\n    }\n</style>\n<table border=\"1\" class=\"dataframe\">\n  <thead>\n    <tr style=\"text-align: right;\">\n      <th></th>\n      <th>1</th>\n      <th>2</th>\n      <th>3</th>\n      <th>4</th>\n      <th>5</th>\n      <th>6</th>\n      <th>7</th>\n    </tr>\n  </thead>\n  <tbody>\n    <tr>\n      <th>0</th>\n      <td>148</td>\n      <td>72</td>\n      <td>35</td>\n      <td>0</td>\n      <td>33.6</td>\n      <td>0.627</td>\n      <td>50</td>\n    </tr>\n    <tr>\n      <th>1</th>\n      <td>85</td>\n      <td>66</td>\n      <td>29</td>\n      <td>0</td>\n      <td>26.6</td>\n      <td>0.351</td>\n      <td>31</td>\n    </tr>\n    <tr>\n      <th>2</th>\n      <td>183</td>\n      <td>64</td>\n      <td>0</td>\n      <td>0</td>\n      <td>23.3</td>\n      <td>0.672</td>\n      <td>32</td>\n    </tr>\n    <tr>\n      <th>3</th>\n      <td>89</td>\n      <td>66</td>\n      <td>23</td>\n      <td>94</td>\n      <td>28.1</td>\n      <td>0.167</td>\n      <td>21</td>\n    </tr>\n    <tr>\n      <th>4</th>\n      <td>137</td>\n      <td>40</td>\n      <td>35</td>\n      <td>168</td>\n      <td>43.1</td>\n      <td>2.288</td>\n      <td>33</td>\n    </tr>\n    <tr>\n      <th>...</th>\n      <td>...</td>\n      <td>...</td>\n      <td>...</td>\n      <td>...</td>\n      <td>...</td>\n      <td>...</td>\n      <td>...</td>\n    </tr>\n    <tr>\n      <th>763</th>\n      <td>101</td>\n      <td>76</td>\n      <td>48</td>\n      <td>180</td>\n      <td>32.9</td>\n      <td>0.171</td>\n      <td>63</td>\n    </tr>\n    <tr>\n      <th>764</th>\n      <td>122</td>\n      <td>70</td>\n      <td>27</td>\n      <td>0</td>\n      <td>36.8</td>\n      <td>0.340</td>\n      <td>27</td>\n    </tr>\n    <tr>\n      <th>765</th>\n      <td>121</td>\n      <td>72</td>\n      <td>23</td>\n      <td>112</td>\n      <td>26.2</td>\n      <td>0.245</td>\n      <td>30</td>\n    </tr>\n    <tr>\n      <th>766</th>\n      <td>126</td>\n      <td>60</td>\n      <td>0</td>\n      <td>0</td>\n      <td>30.1</td>\n      <td>0.349</td>\n      <td>47</td>\n    </tr>\n    <tr>\n      <th>767</th>\n      <td>93</td>\n      <td>70</td>\n      <td>31</td>\n      <td>0</td>\n      <td>30.4</td>\n      <td>0.315</td>\n      <td>23</td>\n    </tr>\n  </tbody>\n</table>\n<p>657 rows × 7 columns</p>\n</div>"
     },
     "metadata": {},
     "execution_count": 10
    }
   ],
   "source": [
    "# verificando onde existem valores iguais a zero, e tratar os valores\n",
    "pima_dataset.drop(columns = [0,8], axis = 1)[pima_dataset.eq(0).any(1)]"
   ]
  },
  {
   "cell_type": "code",
   "execution_count": 17,
   "metadata": {},
   "outputs": [
    {
     "output_type": "execute_result",
     "data": {
      "text/plain": "1      5\n2     35\n3    227\n4    374\n5     11\ndtype: int64"
     },
     "metadata": {},
     "execution_count": 17
    }
   ],
   "source": [
    "# contando a qtde de valores zeros em cada uma das colunas que não poderiam estar\n",
    "(pima_dataset[[1,2,3,4,5]] == 0).sum()"
   ]
  },
  {
   "cell_type": "code",
   "execution_count": 19,
   "metadata": {},
   "outputs": [],
   "source": [
    "# substituindo os valores zero por NA\n",
    "pima_dataset[[1,2,3,4,5]] = pima_dataset[[1,2,3,4,5]].replace(0, np.NaN)"
   ]
  },
  {
   "cell_type": "code",
   "execution_count": 20,
   "metadata": {},
   "outputs": [
    {
     "output_type": "stream",
     "name": "stdout",
     "text": "<class 'pandas.core.frame.DataFrame'>\nRangeIndex: 768 entries, 0 to 767\nData columns (total 9 columns):\n #   Column  Non-Null Count  Dtype  \n---  ------  --------------  -----  \n 0   0       768 non-null    int64  \n 1   1       763 non-null    float64\n 2   2       733 non-null    float64\n 3   3       541 non-null    float64\n 4   4       394 non-null    float64\n 5   5       757 non-null    float64\n 6   6       768 non-null    float64\n 7   7       768 non-null    int64  \n 8   8       768 non-null    int64  \ndtypes: float64(6), int64(3)\nmemory usage: 54.1 KB\n"
    }
   ],
   "source": [
    "pima_dataset.info()"
   ]
  },
  {
   "cell_type": "code",
   "execution_count": 22,
   "metadata": {},
   "outputs": [
    {
     "output_type": "execute_result",
     "data": {
      "text/plain": "0      0\n1      5\n2     35\n3    227\n4    374\n5     11\n6      0\n7      0\n8      0\ndtype: int64"
     },
     "metadata": {},
     "execution_count": 22
    }
   ],
   "source": [
    "# quantidade de registros NA em cada coluna\n",
    "pima_dataset.isnull().sum()"
   ]
  },
  {
   "cell_type": "code",
   "execution_count": 24,
   "metadata": {},
   "outputs": [
    {
     "output_type": "stream",
     "name": "stdout",
     "text": "<class 'pandas.core.frame.DataFrame'>\nInt64Index: 392 entries, 3 to 765\nData columns (total 9 columns):\n #   Column  Non-Null Count  Dtype  \n---  ------  --------------  -----  \n 0   0       392 non-null    int64  \n 1   1       392 non-null    float64\n 2   2       392 non-null    float64\n 3   3       392 non-null    float64\n 4   4       392 non-null    float64\n 5   5       392 non-null    float64\n 6   6       392 non-null    float64\n 7   7       392 non-null    int64  \n 8   8       392 non-null    int64  \ndtypes: float64(6), int64(3)\nmemory usage: 30.6 KB\n"
    }
   ],
   "source": [
    "# criando um novo df sem os valores NA\n",
    "df_remove_na = pima_dataset.dropna()\n",
    "df_remove_na.info()"
   ]
  },
  {
   "cell_type": "code",
   "execution_count": 25,
   "metadata": {},
   "outputs": [
    {
     "output_type": "execute_result",
     "data": {
      "text/plain": "    0      1     2     3      4     5      6   7  8\n3   1   89.0  66.0  23.0   94.0  28.1  0.167  21  0\n4   0  137.0  40.0  35.0  168.0  43.1  2.288  33  1\n6   3   78.0  50.0  32.0   88.0  31.0  0.248  26  1\n8   2  197.0  70.0  45.0  543.0  30.5  0.158  53  1\n13  1  189.0  60.0  23.0  846.0  30.1  0.398  59  1",
      "text/html": "<div>\n<style scoped>\n    .dataframe tbody tr th:only-of-type {\n        vertical-align: middle;\n    }\n\n    .dataframe tbody tr th {\n        vertical-align: top;\n    }\n\n    .dataframe thead th {\n        text-align: right;\n    }\n</style>\n<table border=\"1\" class=\"dataframe\">\n  <thead>\n    <tr style=\"text-align: right;\">\n      <th></th>\n      <th>0</th>\n      <th>1</th>\n      <th>2</th>\n      <th>3</th>\n      <th>4</th>\n      <th>5</th>\n      <th>6</th>\n      <th>7</th>\n      <th>8</th>\n    </tr>\n  </thead>\n  <tbody>\n    <tr>\n      <th>3</th>\n      <td>1</td>\n      <td>89.0</td>\n      <td>66.0</td>\n      <td>23.0</td>\n      <td>94.0</td>\n      <td>28.1</td>\n      <td>0.167</td>\n      <td>21</td>\n      <td>0</td>\n    </tr>\n    <tr>\n      <th>4</th>\n      <td>0</td>\n      <td>137.0</td>\n      <td>40.0</td>\n      <td>35.0</td>\n      <td>168.0</td>\n      <td>43.1</td>\n      <td>2.288</td>\n      <td>33</td>\n      <td>1</td>\n    </tr>\n    <tr>\n      <th>6</th>\n      <td>3</td>\n      <td>78.0</td>\n      <td>50.0</td>\n      <td>32.0</td>\n      <td>88.0</td>\n      <td>31.0</td>\n      <td>0.248</td>\n      <td>26</td>\n      <td>1</td>\n    </tr>\n    <tr>\n      <th>8</th>\n      <td>2</td>\n      <td>197.0</td>\n      <td>70.0</td>\n      <td>45.0</td>\n      <td>543.0</td>\n      <td>30.5</td>\n      <td>0.158</td>\n      <td>53</td>\n      <td>1</td>\n    </tr>\n    <tr>\n      <th>13</th>\n      <td>1</td>\n      <td>189.0</td>\n      <td>60.0</td>\n      <td>23.0</td>\n      <td>846.0</td>\n      <td>30.1</td>\n      <td>0.398</td>\n      <td>59</td>\n      <td>1</td>\n    </tr>\n  </tbody>\n</table>\n</div>"
     },
     "metadata": {},
     "execution_count": 25
    }
   ],
   "source": [
    "df_remove_na.head()"
   ]
  },
  {
   "cell_type": "code",
   "execution_count": 27,
   "metadata": {},
   "outputs": [
    {
     "output_type": "execute_result",
     "data": {
      "text/plain": "                0           1           2           3           4           5  \\\ncount  392.000000  392.000000  392.000000  392.000000  392.000000  392.000000   \nmean     3.301020  122.627551   70.663265   29.145408  156.056122   33.086224   \nstd      3.211424   30.860781   12.496092   10.516424  118.841690    7.027659   \nmin      0.000000   56.000000   24.000000    7.000000   14.000000   18.200000   \n25%      1.000000   99.000000   62.000000   21.000000   76.750000   28.400000   \n50%      2.000000  119.000000   70.000000   29.000000  125.500000   33.200000   \n75%      5.000000  143.000000   78.000000   37.000000  190.000000   37.100000   \nmax     17.000000  198.000000  110.000000   63.000000  846.000000   67.100000   \n\n                6           7           8  \ncount  392.000000  392.000000  392.000000  \nmean     0.523046   30.864796    0.331633  \nstd      0.345488   10.200777    0.471401  \nmin      0.085000   21.000000    0.000000  \n25%      0.269750   23.000000    0.000000  \n50%      0.449500   27.000000    0.000000  \n75%      0.687000   36.000000    1.000000  \nmax      2.420000   81.000000    1.000000  ",
      "text/html": "<div>\n<style scoped>\n    .dataframe tbody tr th:only-of-type {\n        vertical-align: middle;\n    }\n\n    .dataframe tbody tr th {\n        vertical-align: top;\n    }\n\n    .dataframe thead th {\n        text-align: right;\n    }\n</style>\n<table border=\"1\" class=\"dataframe\">\n  <thead>\n    <tr style=\"text-align: right;\">\n      <th></th>\n      <th>0</th>\n      <th>1</th>\n      <th>2</th>\n      <th>3</th>\n      <th>4</th>\n      <th>5</th>\n      <th>6</th>\n      <th>7</th>\n      <th>8</th>\n    </tr>\n  </thead>\n  <tbody>\n    <tr>\n      <th>count</th>\n      <td>392.000000</td>\n      <td>392.000000</td>\n      <td>392.000000</td>\n      <td>392.000000</td>\n      <td>392.000000</td>\n      <td>392.000000</td>\n      <td>392.000000</td>\n      <td>392.000000</td>\n      <td>392.000000</td>\n    </tr>\n    <tr>\n      <th>mean</th>\n      <td>3.301020</td>\n      <td>122.627551</td>\n      <td>70.663265</td>\n      <td>29.145408</td>\n      <td>156.056122</td>\n      <td>33.086224</td>\n      <td>0.523046</td>\n      <td>30.864796</td>\n      <td>0.331633</td>\n    </tr>\n    <tr>\n      <th>std</th>\n      <td>3.211424</td>\n      <td>30.860781</td>\n      <td>12.496092</td>\n      <td>10.516424</td>\n      <td>118.841690</td>\n      <td>7.027659</td>\n      <td>0.345488</td>\n      <td>10.200777</td>\n      <td>0.471401</td>\n    </tr>\n    <tr>\n      <th>min</th>\n      <td>0.000000</td>\n      <td>56.000000</td>\n      <td>24.000000</td>\n      <td>7.000000</td>\n      <td>14.000000</td>\n      <td>18.200000</td>\n      <td>0.085000</td>\n      <td>21.000000</td>\n      <td>0.000000</td>\n    </tr>\n    <tr>\n      <th>25%</th>\n      <td>1.000000</td>\n      <td>99.000000</td>\n      <td>62.000000</td>\n      <td>21.000000</td>\n      <td>76.750000</td>\n      <td>28.400000</td>\n      <td>0.269750</td>\n      <td>23.000000</td>\n      <td>0.000000</td>\n    </tr>\n    <tr>\n      <th>50%</th>\n      <td>2.000000</td>\n      <td>119.000000</td>\n      <td>70.000000</td>\n      <td>29.000000</td>\n      <td>125.500000</td>\n      <td>33.200000</td>\n      <td>0.449500</td>\n      <td>27.000000</td>\n      <td>0.000000</td>\n    </tr>\n    <tr>\n      <th>75%</th>\n      <td>5.000000</td>\n      <td>143.000000</td>\n      <td>78.000000</td>\n      <td>37.000000</td>\n      <td>190.000000</td>\n      <td>37.100000</td>\n      <td>0.687000</td>\n      <td>36.000000</td>\n      <td>1.000000</td>\n    </tr>\n    <tr>\n      <th>max</th>\n      <td>17.000000</td>\n      <td>198.000000</td>\n      <td>110.000000</td>\n      <td>63.000000</td>\n      <td>846.000000</td>\n      <td>67.100000</td>\n      <td>2.420000</td>\n      <td>81.000000</td>\n      <td>1.000000</td>\n    </tr>\n  </tbody>\n</table>\n</div>"
     },
     "metadata": {},
     "execution_count": 27
    }
   ],
   "source": [
    "df_remove_na.describe()"
   ]
  },
  {
   "cell_type": "code",
   "execution_count": 28,
   "metadata": {},
   "outputs": [
    {
     "output_type": "execute_result",
     "data": {
      "text/plain": "<matplotlib.axes._subplots.AxesSubplot at 0x21144f70308>"
     },
     "metadata": {},
     "execution_count": 28
    },
    {
     "output_type": "display_data",
     "data": {
      "text/plain": "<Figure size 432x288 with 1 Axes>",
      "image/svg+xml": "<?xml version=\"1.0\" encoding=\"utf-8\" standalone=\"no\"?>\r\n<!DOCTYPE svg PUBLIC \"-//W3C//DTD SVG 1.1//EN\"\r\n  \"http://www.w3.org/Graphics/SVG/1.1/DTD/svg11.dtd\">\r\n<!-- Created with matplotlib (https://matplotlib.org/) -->\r\n<svg height=\"248.518125pt\" version=\"1.1\" viewBox=\"0 0 375.2875 248.518125\" width=\"375.2875pt\" xmlns=\"http://www.w3.org/2000/svg\" xmlns:xlink=\"http://www.w3.org/1999/xlink\">\r\n <defs>\r\n  <style type=\"text/css\">\r\n*{stroke-linecap:butt;stroke-linejoin:round;}\r\n  </style>\r\n </defs>\r\n <g id=\"figure_1\">\r\n  <g id=\"patch_1\">\r\n   <path d=\"M 0 248.518125 \r\nL 375.2875 248.518125 \r\nL 375.2875 0 \r\nL 0 0 \r\nz\r\n\" style=\"fill:none;\"/>\r\n  </g>\r\n  <g id=\"axes_1\">\r\n   <g id=\"patch_2\">\r\n    <path d=\"M 33.2875 224.64 \r\nL 368.0875 224.64 \r\nL 368.0875 7.2 \r\nL 33.2875 7.2 \r\nz\r\n\" style=\"fill:#ffffff;\"/>\r\n   </g>\r\n   <g id=\"matplotlib.axis_1\">\r\n    <g id=\"xtick_1\">\r\n     <g id=\"line2d_1\">\r\n      <path clip-path=\"url(#pc0aacd650a)\" d=\"M 66.7675 224.64 \r\nL 66.7675 7.2 \r\n\" style=\"fill:none;stroke:#b0b0b0;stroke-linecap:square;stroke-width:0.8;\"/>\r\n     </g>\r\n     <g id=\"line2d_2\">\r\n      <defs>\r\n       <path d=\"M 0 0 \r\nL 0 3.5 \r\n\" id=\"m6030fe782f\" style=\"stroke:#000000;stroke-width:0.8;\"/>\r\n      </defs>\r\n      <g>\r\n       <use style=\"stroke:#000000;stroke-width:0.8;\" x=\"66.7675\" xlink:href=\"#m6030fe782f\" y=\"224.64\"/>\r\n      </g>\r\n     </g>\r\n     <g id=\"text_1\">\r\n      <!-- 1 -->\r\n      <defs>\r\n       <path d=\"M 12.40625 8.296875 \r\nL 28.515625 8.296875 \r\nL 28.515625 63.921875 \r\nL 10.984375 60.40625 \r\nL 10.984375 69.390625 \r\nL 28.421875 72.90625 \r\nL 38.28125 72.90625 \r\nL 38.28125 8.296875 \r\nL 54.390625 8.296875 \r\nL 54.390625 0 \r\nL 12.40625 0 \r\nz\r\n\" id=\"DejaVuSans-49\"/>\r\n      </defs>\r\n      <g transform=\"translate(63.58625 239.238437)scale(0.1 -0.1)\">\r\n       <use xlink:href=\"#DejaVuSans-49\"/>\r\n      </g>\r\n     </g>\r\n    </g>\r\n    <g id=\"xtick_2\">\r\n     <g id=\"line2d_3\">\r\n      <path clip-path=\"url(#pc0aacd650a)\" d=\"M 133.7275 224.64 \r\nL 133.7275 7.2 \r\n\" style=\"fill:none;stroke:#b0b0b0;stroke-linecap:square;stroke-width:0.8;\"/>\r\n     </g>\r\n     <g id=\"line2d_4\">\r\n      <g>\r\n       <use style=\"stroke:#000000;stroke-width:0.8;\" x=\"133.7275\" xlink:href=\"#m6030fe782f\" y=\"224.64\"/>\r\n      </g>\r\n     </g>\r\n     <g id=\"text_2\">\r\n      <!-- 2 -->\r\n      <defs>\r\n       <path d=\"M 19.1875 8.296875 \r\nL 53.609375 8.296875 \r\nL 53.609375 0 \r\nL 7.328125 0 \r\nL 7.328125 8.296875 \r\nQ 12.9375 14.109375 22.625 23.890625 \r\nQ 32.328125 33.6875 34.8125 36.53125 \r\nQ 39.546875 41.84375 41.421875 45.53125 \r\nQ 43.3125 49.21875 43.3125 52.78125 \r\nQ 43.3125 58.59375 39.234375 62.25 \r\nQ 35.15625 65.921875 28.609375 65.921875 \r\nQ 23.96875 65.921875 18.8125 64.3125 \r\nQ 13.671875 62.703125 7.8125 59.421875 \r\nL 7.8125 69.390625 \r\nQ 13.765625 71.78125 18.9375 73 \r\nQ 24.125 74.21875 28.421875 74.21875 \r\nQ 39.75 74.21875 46.484375 68.546875 \r\nQ 53.21875 62.890625 53.21875 53.421875 \r\nQ 53.21875 48.921875 51.53125 44.890625 \r\nQ 49.859375 40.875 45.40625 35.40625 \r\nQ 44.1875 33.984375 37.640625 27.21875 \r\nQ 31.109375 20.453125 19.1875 8.296875 \r\nz\r\n\" id=\"DejaVuSans-50\"/>\r\n      </defs>\r\n      <g transform=\"translate(130.54625 239.238437)scale(0.1 -0.1)\">\r\n       <use xlink:href=\"#DejaVuSans-50\"/>\r\n      </g>\r\n     </g>\r\n    </g>\r\n    <g id=\"xtick_3\">\r\n     <g id=\"line2d_5\">\r\n      <path clip-path=\"url(#pc0aacd650a)\" d=\"M 200.6875 224.64 \r\nL 200.6875 7.2 \r\n\" style=\"fill:none;stroke:#b0b0b0;stroke-linecap:square;stroke-width:0.8;\"/>\r\n     </g>\r\n     <g id=\"line2d_6\">\r\n      <g>\r\n       <use style=\"stroke:#000000;stroke-width:0.8;\" x=\"200.6875\" xlink:href=\"#m6030fe782f\" y=\"224.64\"/>\r\n      </g>\r\n     </g>\r\n     <g id=\"text_3\">\r\n      <!-- 3 -->\r\n      <defs>\r\n       <path d=\"M 40.578125 39.3125 \r\nQ 47.65625 37.796875 51.625 33 \r\nQ 55.609375 28.21875 55.609375 21.1875 \r\nQ 55.609375 10.40625 48.1875 4.484375 \r\nQ 40.765625 -1.421875 27.09375 -1.421875 \r\nQ 22.515625 -1.421875 17.65625 -0.515625 \r\nQ 12.796875 0.390625 7.625 2.203125 \r\nL 7.625 11.71875 \r\nQ 11.71875 9.328125 16.59375 8.109375 \r\nQ 21.484375 6.890625 26.8125 6.890625 \r\nQ 36.078125 6.890625 40.9375 10.546875 \r\nQ 45.796875 14.203125 45.796875 21.1875 \r\nQ 45.796875 27.640625 41.28125 31.265625 \r\nQ 36.765625 34.90625 28.71875 34.90625 \r\nL 20.21875 34.90625 \r\nL 20.21875 43.015625 \r\nL 29.109375 43.015625 \r\nQ 36.375 43.015625 40.234375 45.921875 \r\nQ 44.09375 48.828125 44.09375 54.296875 \r\nQ 44.09375 59.90625 40.109375 62.90625 \r\nQ 36.140625 65.921875 28.71875 65.921875 \r\nQ 24.65625 65.921875 20.015625 65.03125 \r\nQ 15.375 64.15625 9.8125 62.3125 \r\nL 9.8125 71.09375 \r\nQ 15.4375 72.65625 20.34375 73.4375 \r\nQ 25.25 74.21875 29.59375 74.21875 \r\nQ 40.828125 74.21875 47.359375 69.109375 \r\nQ 53.90625 64.015625 53.90625 55.328125 \r\nQ 53.90625 49.265625 50.4375 45.09375 \r\nQ 46.96875 40.921875 40.578125 39.3125 \r\nz\r\n\" id=\"DejaVuSans-51\"/>\r\n      </defs>\r\n      <g transform=\"translate(197.50625 239.238437)scale(0.1 -0.1)\">\r\n       <use xlink:href=\"#DejaVuSans-51\"/>\r\n      </g>\r\n     </g>\r\n    </g>\r\n    <g id=\"xtick_4\">\r\n     <g id=\"line2d_7\">\r\n      <path clip-path=\"url(#pc0aacd650a)\" d=\"M 267.6475 224.64 \r\nL 267.6475 7.2 \r\n\" style=\"fill:none;stroke:#b0b0b0;stroke-linecap:square;stroke-width:0.8;\"/>\r\n     </g>\r\n     <g id=\"line2d_8\">\r\n      <g>\r\n       <use style=\"stroke:#000000;stroke-width:0.8;\" x=\"267.6475\" xlink:href=\"#m6030fe782f\" y=\"224.64\"/>\r\n      </g>\r\n     </g>\r\n     <g id=\"text_4\">\r\n      <!-- 4 -->\r\n      <defs>\r\n       <path d=\"M 37.796875 64.3125 \r\nL 12.890625 25.390625 \r\nL 37.796875 25.390625 \r\nz\r\nM 35.203125 72.90625 \r\nL 47.609375 72.90625 \r\nL 47.609375 25.390625 \r\nL 58.015625 25.390625 \r\nL 58.015625 17.1875 \r\nL 47.609375 17.1875 \r\nL 47.609375 0 \r\nL 37.796875 0 \r\nL 37.796875 17.1875 \r\nL 4.890625 17.1875 \r\nL 4.890625 26.703125 \r\nz\r\n\" id=\"DejaVuSans-52\"/>\r\n      </defs>\r\n      <g transform=\"translate(264.46625 239.238437)scale(0.1 -0.1)\">\r\n       <use xlink:href=\"#DejaVuSans-52\"/>\r\n      </g>\r\n     </g>\r\n    </g>\r\n    <g id=\"xtick_5\">\r\n     <g id=\"line2d_9\">\r\n      <path clip-path=\"url(#pc0aacd650a)\" d=\"M 334.6075 224.64 \r\nL 334.6075 7.2 \r\n\" style=\"fill:none;stroke:#b0b0b0;stroke-linecap:square;stroke-width:0.8;\"/>\r\n     </g>\r\n     <g id=\"line2d_10\">\r\n      <g>\r\n       <use style=\"stroke:#000000;stroke-width:0.8;\" x=\"334.6075\" xlink:href=\"#m6030fe782f\" y=\"224.64\"/>\r\n      </g>\r\n     </g>\r\n     <g id=\"text_5\">\r\n      <!-- 5 -->\r\n      <defs>\r\n       <path d=\"M 10.796875 72.90625 \r\nL 49.515625 72.90625 \r\nL 49.515625 64.59375 \r\nL 19.828125 64.59375 \r\nL 19.828125 46.734375 \r\nQ 21.96875 47.46875 24.109375 47.828125 \r\nQ 26.265625 48.1875 28.421875 48.1875 \r\nQ 40.625 48.1875 47.75 41.5 \r\nQ 54.890625 34.8125 54.890625 23.390625 \r\nQ 54.890625 11.625 47.5625 5.09375 \r\nQ 40.234375 -1.421875 26.90625 -1.421875 \r\nQ 22.3125 -1.421875 17.546875 -0.640625 \r\nQ 12.796875 0.140625 7.71875 1.703125 \r\nL 7.71875 11.625 \r\nQ 12.109375 9.234375 16.796875 8.0625 \r\nQ 21.484375 6.890625 26.703125 6.890625 \r\nQ 35.15625 6.890625 40.078125 11.328125 \r\nQ 45.015625 15.765625 45.015625 23.390625 \r\nQ 45.015625 31 40.078125 35.4375 \r\nQ 35.15625 39.890625 26.703125 39.890625 \r\nQ 22.75 39.890625 18.8125 39.015625 \r\nQ 14.890625 38.140625 10.796875 36.28125 \r\nz\r\n\" id=\"DejaVuSans-53\"/>\r\n      </defs>\r\n      <g transform=\"translate(331.42625 239.238437)scale(0.1 -0.1)\">\r\n       <use xlink:href=\"#DejaVuSans-53\"/>\r\n      </g>\r\n     </g>\r\n    </g>\r\n   </g>\r\n   <g id=\"matplotlib.axis_2\">\r\n    <g id=\"ytick_1\">\r\n     <g id=\"line2d_11\">\r\n      <path clip-path=\"url(#pc0aacd650a)\" d=\"M 33.2875 216.4056 \r\nL 368.0875 216.4056 \r\n\" style=\"fill:none;stroke:#b0b0b0;stroke-linecap:square;stroke-width:0.8;\"/>\r\n     </g>\r\n     <g id=\"line2d_12\">\r\n      <defs>\r\n       <path d=\"M 0 0 \r\nL -3.5 0 \r\n\" id=\"m4320ff9d20\" style=\"stroke:#000000;stroke-width:0.8;\"/>\r\n      </defs>\r\n      <g>\r\n       <use style=\"stroke:#000000;stroke-width:0.8;\" x=\"33.2875\" xlink:href=\"#m4320ff9d20\" y=\"216.4056\"/>\r\n      </g>\r\n     </g>\r\n     <g id=\"text_6\">\r\n      <!-- 0 -->\r\n      <defs>\r\n       <path d=\"M 31.78125 66.40625 \r\nQ 24.171875 66.40625 20.328125 58.90625 \r\nQ 16.5 51.421875 16.5 36.375 \r\nQ 16.5 21.390625 20.328125 13.890625 \r\nQ 24.171875 6.390625 31.78125 6.390625 \r\nQ 39.453125 6.390625 43.28125 13.890625 \r\nQ 47.125 21.390625 47.125 36.375 \r\nQ 47.125 51.421875 43.28125 58.90625 \r\nQ 39.453125 66.40625 31.78125 66.40625 \r\nz\r\nM 31.78125 74.21875 \r\nQ 44.046875 74.21875 50.515625 64.515625 \r\nQ 56.984375 54.828125 56.984375 36.375 \r\nQ 56.984375 17.96875 50.515625 8.265625 \r\nQ 44.046875 -1.421875 31.78125 -1.421875 \r\nQ 19.53125 -1.421875 13.0625 8.265625 \r\nQ 6.59375 17.96875 6.59375 36.375 \r\nQ 6.59375 54.828125 13.0625 64.515625 \r\nQ 19.53125 74.21875 31.78125 74.21875 \r\nz\r\n\" id=\"DejaVuSans-48\"/>\r\n      </defs>\r\n      <g transform=\"translate(19.925 220.204818)scale(0.1 -0.1)\">\r\n       <use xlink:href=\"#DejaVuSans-48\"/>\r\n      </g>\r\n     </g>\r\n    </g>\r\n    <g id=\"ytick_2\">\r\n     <g id=\"line2d_13\">\r\n      <path clip-path=\"url(#pc0aacd650a)\" d=\"M 33.2875 169.284568 \r\nL 368.0875 169.284568 \r\n\" style=\"fill:none;stroke:#b0b0b0;stroke-linecap:square;stroke-width:0.8;\"/>\r\n     </g>\r\n     <g id=\"line2d_14\">\r\n      <g>\r\n       <use style=\"stroke:#000000;stroke-width:0.8;\" x=\"33.2875\" xlink:href=\"#m4320ff9d20\" y=\"169.284568\"/>\r\n      </g>\r\n     </g>\r\n     <g id=\"text_7\">\r\n      <!-- 200 -->\r\n      <g transform=\"translate(7.2 173.083787)scale(0.1 -0.1)\">\r\n       <use xlink:href=\"#DejaVuSans-50\"/>\r\n       <use x=\"63.623047\" xlink:href=\"#DejaVuSans-48\"/>\r\n       <use x=\"127.246094\" xlink:href=\"#DejaVuSans-48\"/>\r\n      </g>\r\n     </g>\r\n    </g>\r\n    <g id=\"ytick_3\">\r\n     <g id=\"line2d_15\">\r\n      <path clip-path=\"url(#pc0aacd650a)\" d=\"M 33.2875 122.163537 \r\nL 368.0875 122.163537 \r\n\" style=\"fill:none;stroke:#b0b0b0;stroke-linecap:square;stroke-width:0.8;\"/>\r\n     </g>\r\n     <g id=\"line2d_16\">\r\n      <g>\r\n       <use style=\"stroke:#000000;stroke-width:0.8;\" x=\"33.2875\" xlink:href=\"#m4320ff9d20\" y=\"122.163537\"/>\r\n      </g>\r\n     </g>\r\n     <g id=\"text_8\">\r\n      <!-- 400 -->\r\n      <g transform=\"translate(7.2 125.962755)scale(0.1 -0.1)\">\r\n       <use xlink:href=\"#DejaVuSans-52\"/>\r\n       <use x=\"63.623047\" xlink:href=\"#DejaVuSans-48\"/>\r\n       <use x=\"127.246094\" xlink:href=\"#DejaVuSans-48\"/>\r\n      </g>\r\n     </g>\r\n    </g>\r\n    <g id=\"ytick_4\">\r\n     <g id=\"line2d_17\">\r\n      <path clip-path=\"url(#pc0aacd650a)\" d=\"M 33.2875 75.042505 \r\nL 368.0875 75.042505 \r\n\" style=\"fill:none;stroke:#b0b0b0;stroke-linecap:square;stroke-width:0.8;\"/>\r\n     </g>\r\n     <g id=\"line2d_18\">\r\n      <g>\r\n       <use style=\"stroke:#000000;stroke-width:0.8;\" x=\"33.2875\" xlink:href=\"#m4320ff9d20\" y=\"75.042505\"/>\r\n      </g>\r\n     </g>\r\n     <g id=\"text_9\">\r\n      <!-- 600 -->\r\n      <defs>\r\n       <path d=\"M 33.015625 40.375 \r\nQ 26.375 40.375 22.484375 35.828125 \r\nQ 18.609375 31.296875 18.609375 23.390625 \r\nQ 18.609375 15.53125 22.484375 10.953125 \r\nQ 26.375 6.390625 33.015625 6.390625 \r\nQ 39.65625 6.390625 43.53125 10.953125 \r\nQ 47.40625 15.53125 47.40625 23.390625 \r\nQ 47.40625 31.296875 43.53125 35.828125 \r\nQ 39.65625 40.375 33.015625 40.375 \r\nz\r\nM 52.59375 71.296875 \r\nL 52.59375 62.3125 \r\nQ 48.875 64.0625 45.09375 64.984375 \r\nQ 41.3125 65.921875 37.59375 65.921875 \r\nQ 27.828125 65.921875 22.671875 59.328125 \r\nQ 17.53125 52.734375 16.796875 39.40625 \r\nQ 19.671875 43.65625 24.015625 45.921875 \r\nQ 28.375 48.1875 33.59375 48.1875 \r\nQ 44.578125 48.1875 50.953125 41.515625 \r\nQ 57.328125 34.859375 57.328125 23.390625 \r\nQ 57.328125 12.15625 50.6875 5.359375 \r\nQ 44.046875 -1.421875 33.015625 -1.421875 \r\nQ 20.359375 -1.421875 13.671875 8.265625 \r\nQ 6.984375 17.96875 6.984375 36.375 \r\nQ 6.984375 53.65625 15.1875 63.9375 \r\nQ 23.390625 74.21875 37.203125 74.21875 \r\nQ 40.921875 74.21875 44.703125 73.484375 \r\nQ 48.484375 72.75 52.59375 71.296875 \r\nz\r\n\" id=\"DejaVuSans-54\"/>\r\n      </defs>\r\n      <g transform=\"translate(7.2 78.841724)scale(0.1 -0.1)\">\r\n       <use xlink:href=\"#DejaVuSans-54\"/>\r\n       <use x=\"63.623047\" xlink:href=\"#DejaVuSans-48\"/>\r\n       <use x=\"127.246094\" xlink:href=\"#DejaVuSans-48\"/>\r\n      </g>\r\n     </g>\r\n    </g>\r\n    <g id=\"ytick_5\">\r\n     <g id=\"line2d_19\">\r\n      <path clip-path=\"url(#pc0aacd650a)\" d=\"M 33.2875 27.921474 \r\nL 368.0875 27.921474 \r\n\" style=\"fill:none;stroke:#b0b0b0;stroke-linecap:square;stroke-width:0.8;\"/>\r\n     </g>\r\n     <g id=\"line2d_20\">\r\n      <g>\r\n       <use style=\"stroke:#000000;stroke-width:0.8;\" x=\"33.2875\" xlink:href=\"#m4320ff9d20\" y=\"27.921474\"/>\r\n      </g>\r\n     </g>\r\n     <g id=\"text_10\">\r\n      <!-- 800 -->\r\n      <defs>\r\n       <path d=\"M 31.78125 34.625 \r\nQ 24.75 34.625 20.71875 30.859375 \r\nQ 16.703125 27.09375 16.703125 20.515625 \r\nQ 16.703125 13.921875 20.71875 10.15625 \r\nQ 24.75 6.390625 31.78125 6.390625 \r\nQ 38.8125 6.390625 42.859375 10.171875 \r\nQ 46.921875 13.96875 46.921875 20.515625 \r\nQ 46.921875 27.09375 42.890625 30.859375 \r\nQ 38.875 34.625 31.78125 34.625 \r\nz\r\nM 21.921875 38.8125 \r\nQ 15.578125 40.375 12.03125 44.71875 \r\nQ 8.5 49.078125 8.5 55.328125 \r\nQ 8.5 64.0625 14.71875 69.140625 \r\nQ 20.953125 74.21875 31.78125 74.21875 \r\nQ 42.671875 74.21875 48.875 69.140625 \r\nQ 55.078125 64.0625 55.078125 55.328125 \r\nQ 55.078125 49.078125 51.53125 44.71875 \r\nQ 48 40.375 41.703125 38.8125 \r\nQ 48.828125 37.15625 52.796875 32.3125 \r\nQ 56.78125 27.484375 56.78125 20.515625 \r\nQ 56.78125 9.90625 50.3125 4.234375 \r\nQ 43.84375 -1.421875 31.78125 -1.421875 \r\nQ 19.734375 -1.421875 13.25 4.234375 \r\nQ 6.78125 9.90625 6.78125 20.515625 \r\nQ 6.78125 27.484375 10.78125 32.3125 \r\nQ 14.796875 37.15625 21.921875 38.8125 \r\nz\r\nM 18.3125 54.390625 \r\nQ 18.3125 48.734375 21.84375 45.5625 \r\nQ 25.390625 42.390625 31.78125 42.390625 \r\nQ 38.140625 42.390625 41.71875 45.5625 \r\nQ 45.3125 48.734375 45.3125 54.390625 \r\nQ 45.3125 60.0625 41.71875 63.234375 \r\nQ 38.140625 66.40625 31.78125 66.40625 \r\nQ 25.390625 66.40625 21.84375 63.234375 \r\nQ 18.3125 60.0625 18.3125 54.390625 \r\nz\r\n\" id=\"DejaVuSans-56\"/>\r\n      </defs>\r\n      <g transform=\"translate(7.2 31.720692)scale(0.1 -0.1)\">\r\n       <use xlink:href=\"#DejaVuSans-56\"/>\r\n       <use x=\"63.623047\" xlink:href=\"#DejaVuSans-48\"/>\r\n       <use x=\"127.246094\" xlink:href=\"#DejaVuSans-48\"/>\r\n      </g>\r\n     </g>\r\n    </g>\r\n   </g>\r\n   <g id=\"line2d_21\">\r\n    <path clip-path=\"url(#pc0aacd650a)\" d=\"M 50.0275 193.080689 \r\nL 83.5075 193.080689 \r\nL 83.5075 183.185273 \r\nL 50.0275 183.185273 \r\nL 50.0275 193.080689 \r\n\" style=\"fill:none;stroke:#1f77b4;stroke-linecap:square;\"/>\r\n   </g>\r\n   <g id=\"line2d_22\">\r\n    <path clip-path=\"url(#pc0aacd650a)\" d=\"M 66.7675 193.080689 \r\nL 66.7675 206.038973 \r\n\" style=\"fill:none;stroke:#1f77b4;stroke-linecap:square;\"/>\r\n   </g>\r\n   <g id=\"line2d_23\">\r\n    <path clip-path=\"url(#pc0aacd650a)\" d=\"M 66.7675 183.185273 \r\nL 66.7675 169.520173 \r\n\" style=\"fill:none;stroke:#1f77b4;stroke-linecap:square;\"/>\r\n   </g>\r\n   <g id=\"line2d_24\">\r\n    <path clip-path=\"url(#pc0aacd650a)\" d=\"M 58.3975 206.038973 \r\nL 75.1375 206.038973 \r\n\" style=\"fill:none;stroke:#000000;stroke-linecap:square;\"/>\r\n   </g>\r\n   <g id=\"line2d_25\">\r\n    <path clip-path=\"url(#pc0aacd650a)\" d=\"M 58.3975 169.520173 \r\nL 75.1375 169.520173 \r\n\" style=\"fill:none;stroke:#000000;stroke-linecap:square;\"/>\r\n   </g>\r\n   <g id=\"line2d_26\"/>\r\n   <g id=\"line2d_27\">\r\n    <path clip-path=\"url(#pc0aacd650a)\" d=\"M 116.9875 201.32687 \r\nL 150.4675 201.32687 \r\nL 150.4675 197.557187 \r\nL 116.9875 197.557187 \r\nL 116.9875 201.32687 \r\n\" style=\"fill:none;stroke:#1f77b4;stroke-linecap:square;\"/>\r\n   </g>\r\n   <g id=\"line2d_28\">\r\n    <path clip-path=\"url(#pc0aacd650a)\" d=\"M 133.7275 201.32687 \r\nL 133.7275 206.981393 \r\n\" style=\"fill:none;stroke:#1f77b4;stroke-linecap:square;\"/>\r\n   </g>\r\n   <g id=\"line2d_29\">\r\n    <path clip-path=\"url(#pc0aacd650a)\" d=\"M 133.7275 197.557187 \r\nL 133.7275 191.902663 \r\n\" style=\"fill:none;stroke:#1f77b4;stroke-linecap:square;\"/>\r\n   </g>\r\n   <g id=\"line2d_30\">\r\n    <path clip-path=\"url(#pc0aacd650a)\" d=\"M 125.3575 206.981393 \r\nL 142.0975 206.981393 \r\n\" style=\"fill:none;stroke:#000000;stroke-linecap:square;\"/>\r\n   </g>\r\n   <g id=\"line2d_31\">\r\n    <path clip-path=\"url(#pc0aacd650a)\" d=\"M 125.3575 191.902663 \r\nL 142.0975 191.902663 \r\n\" style=\"fill:none;stroke:#000000;stroke-linecap:square;\"/>\r\n   </g>\r\n   <g id=\"line2d_32\">\r\n    <defs>\r\n     <path d=\"M 0 3 \r\nC 0.795609 3 1.55874 2.683901 2.12132 2.12132 \r\nC 2.683901 1.55874 3 0.795609 3 0 \r\nC 3 -0.795609 2.683901 -1.55874 2.12132 -2.12132 \r\nC 1.55874 -2.683901 0.795609 -3 0 -3 \r\nC -0.795609 -3 -1.55874 -2.683901 -2.12132 -2.12132 \r\nC -2.683901 -1.55874 -3 -0.795609 -3 0 \r\nC -3 0.795609 -2.683901 1.55874 -2.12132 2.12132 \r\nC -1.55874 2.683901 -0.795609 3 0 3 \r\nz\r\n\" id=\"mf03f7af741\" style=\"stroke:#000000;\"/>\r\n    </defs>\r\n    <g clip-path=\"url(#pc0aacd650a)\">\r\n     <use style=\"fill-opacity:0;stroke:#000000;\" x=\"133.7275\" xlink:href=\"#mf03f7af741\" y=\"209.337445\"/>\r\n     <use style=\"fill-opacity:0;stroke:#000000;\" x=\"133.7275\" xlink:href=\"#mf03f7af741\" y=\"209.337445\"/>\r\n     <use style=\"fill-opacity:0;stroke:#000000;\" x=\"133.7275\" xlink:href=\"#mf03f7af741\" y=\"210.751076\"/>\r\n     <use style=\"fill-opacity:0;stroke:#000000;\" x=\"133.7275\" xlink:href=\"#mf03f7af741\" y=\"207.452604\"/>\r\n     <use style=\"fill-opacity:0;stroke:#000000;\" x=\"133.7275\" xlink:href=\"#mf03f7af741\" y=\"190.489032\"/>\r\n     <use style=\"fill-opacity:0;stroke:#000000;\" x=\"133.7275\" xlink:href=\"#mf03f7af741\" y=\"190.960243\"/>\r\n     <use style=\"fill-opacity:0;stroke:#000000;\" x=\"133.7275\" xlink:href=\"#mf03f7af741\" y=\"187.661771\"/>\r\n     <use style=\"fill-opacity:0;stroke:#000000;\" x=\"133.7275\" xlink:href=\"#mf03f7af741\" y=\"190.489032\"/>\r\n     <use style=\"fill-opacity:0;stroke:#000000;\" x=\"133.7275\" xlink:href=\"#mf03f7af741\" y=\"190.960243\"/>\r\n     <use style=\"fill-opacity:0;stroke:#000000;\" x=\"133.7275\" xlink:href=\"#mf03f7af741\" y=\"190.489032\"/>\r\n     <use style=\"fill-opacity:0;stroke:#000000;\" x=\"133.7275\" xlink:href=\"#mf03f7af741\" y=\"191.431453\"/>\r\n     <use style=\"fill-opacity:0;stroke:#000000;\" x=\"133.7275\" xlink:href=\"#mf03f7af741\" y=\"191.431453\"/>\r\n     <use style=\"fill-opacity:0;stroke:#000000;\" x=\"133.7275\" xlink:href=\"#mf03f7af741\" y=\"191.431453\"/>\r\n     <use style=\"fill-opacity:0;stroke:#000000;\" x=\"133.7275\" xlink:href=\"#mf03f7af741\" y=\"189.546612\"/>\r\n    </g>\r\n   </g>\r\n   <g id=\"line2d_33\">\r\n    <path clip-path=\"url(#pc0aacd650a)\" d=\"M 183.9475 211.222286 \r\nL 217.4275 211.222286 \r\nL 217.4275 207.923814 \r\nL 183.9475 207.923814 \r\nL 183.9475 211.222286 \r\n\" style=\"fill:none;stroke:#1f77b4;stroke-linecap:square;\"/>\r\n   </g>\r\n   <g id=\"line2d_34\">\r\n    <path clip-path=\"url(#pc0aacd650a)\" d=\"M 200.6875 211.222286 \r\nL 200.6875 214.756364 \r\n\" style=\"fill:none;stroke:#1f77b4;stroke-linecap:square;\"/>\r\n   </g>\r\n   <g id=\"line2d_35\">\r\n    <path clip-path=\"url(#pc0aacd650a)\" d=\"M 200.6875 207.923814 \r\nL 200.6875 203.211711 \r\n\" style=\"fill:none;stroke:#1f77b4;stroke-linecap:square;\"/>\r\n   </g>\r\n   <g id=\"line2d_36\">\r\n    <path clip-path=\"url(#pc0aacd650a)\" d=\"M 192.3175 214.756364 \r\nL 209.0575 214.756364 \r\n\" style=\"fill:none;stroke:#000000;stroke-linecap:square;\"/>\r\n   </g>\r\n   <g id=\"line2d_37\">\r\n    <path clip-path=\"url(#pc0aacd650a)\" d=\"M 192.3175 203.211711 \r\nL 209.0575 203.211711 \r\n\" style=\"fill:none;stroke:#000000;stroke-linecap:square;\"/>\r\n   </g>\r\n   <g id=\"line2d_38\">\r\n    <g clip-path=\"url(#pc0aacd650a)\">\r\n     <use style=\"fill-opacity:0;stroke:#000000;\" x=\"200.6875\" xlink:href=\"#mf03f7af741\" y=\"202.26929\"/>\r\n     <use style=\"fill-opacity:0;stroke:#000000;\" x=\"200.6875\" xlink:href=\"#mf03f7af741\" y=\"201.562475\"/>\r\n     <use style=\"fill-opacity:0;stroke:#000000;\" x=\"200.6875\" xlink:href=\"#mf03f7af741\" y=\"193.080689\"/>\r\n    </g>\r\n   </g>\r\n   <g id=\"line2d_39\">\r\n    <path clip-path=\"url(#pc0aacd650a)\" d=\"M 250.9075 198.440706 \r\nL 284.3875 198.440706 \r\nL 284.3875 171.64062 \r\nL 250.9075 171.64062 \r\nL 250.9075 198.440706 \r\n\" style=\"fill:none;stroke:#1f77b4;stroke-linecap:square;\"/>\r\n   </g>\r\n   <g id=\"line2d_40\">\r\n    <path clip-path=\"url(#pc0aacd650a)\" d=\"M 267.6475 198.440706 \r\nL 267.6475 213.107128 \r\n\" style=\"fill:none;stroke:#1f77b4;stroke-linecap:square;\"/>\r\n   </g>\r\n   <g id=\"line2d_41\">\r\n    <path clip-path=\"url(#pc0aacd650a)\" d=\"M 267.6475 171.64062 \r\nL 267.6475 131.587743 \r\n\" style=\"fill:none;stroke:#1f77b4;stroke-linecap:square;\"/>\r\n   </g>\r\n   <g id=\"line2d_42\">\r\n    <path clip-path=\"url(#pc0aacd650a)\" d=\"M 259.2775 213.107128 \r\nL 276.0175 213.107128 \r\n\" style=\"fill:none;stroke:#000000;stroke-linecap:square;\"/>\r\n   </g>\r\n   <g id=\"line2d_43\">\r\n    <path clip-path=\"url(#pc0aacd650a)\" d=\"M 259.2775 131.587743 \r\nL 276.0175 131.587743 \r\n\" style=\"fill:none;stroke:#000000;stroke-linecap:square;\"/>\r\n   </g>\r\n   <g id=\"line2d_44\">\r\n    <g clip-path=\"url(#pc0aacd650a)\">\r\n     <use style=\"fill-opacity:0;stroke:#000000;\" x=\"267.6475\" xlink:href=\"#mf03f7af741\" y=\"88.471999\"/>\r\n     <use style=\"fill-opacity:0;stroke:#000000;\" x=\"267.6475\" xlink:href=\"#mf03f7af741\" y=\"17.083636\"/>\r\n     <use style=\"fill-opacity:0;stroke:#000000;\" x=\"267.6475\" xlink:href=\"#mf03f7af741\" y=\"99.781047\"/>\r\n     <use style=\"fill-opacity:0;stroke:#000000;\" x=\"267.6475\" xlink:href=\"#mf03f7af741\" y=\"102.137098\"/>\r\n     <use style=\"fill-opacity:0;stroke:#000000;\" x=\"267.6475\" xlink:href=\"#mf03f7af741\" y=\"99.781047\"/>\r\n     <use style=\"fill-opacity:0;stroke:#000000;\" x=\"267.6475\" xlink:href=\"#mf03f7af741\" y=\"103.786334\"/>\r\n     <use style=\"fill-opacity:0;stroke:#000000;\" x=\"267.6475\" xlink:href=\"#mf03f7af741\" y=\"41.115362\"/>\r\n     <use style=\"fill-opacity:0;stroke:#000000;\" x=\"267.6475\" xlink:href=\"#mf03f7af741\" y=\"129.231691\"/>\r\n     <use style=\"fill-opacity:0;stroke:#000000;\" x=\"267.6475\" xlink:href=\"#mf03f7af741\" y=\"56.194093\"/>\r\n     <use style=\"fill-opacity:0;stroke:#000000;\" x=\"267.6475\" xlink:href=\"#mf03f7af741\" y=\"121.692326\"/>\r\n     <use style=\"fill-opacity:0;stroke:#000000;\" x=\"267.6475\" xlink:href=\"#mf03f7af741\" y=\"128.053666\"/>\r\n     <use style=\"fill-opacity:0;stroke:#000000;\" x=\"267.6475\" xlink:href=\"#mf03f7af741\" y=\"88.000789\"/>\r\n     <use style=\"fill-opacity:0;stroke:#000000;\" x=\"267.6475\" xlink:href=\"#mf03f7af741\" y=\"106.849201\"/>\r\n     <use style=\"fill-opacity:0;stroke:#000000;\" x=\"267.6475\" xlink:href=\"#mf03f7af741\" y=\"118.629459\"/>\r\n     <use style=\"fill-opacity:0;stroke:#000000;\" x=\"267.6475\" xlink:href=\"#mf03f7af741\" y=\"79.990213\"/>\r\n     <use style=\"fill-opacity:0;stroke:#000000;\" x=\"267.6475\" xlink:href=\"#mf03f7af741\" y=\"104.728755\"/>\r\n     <use style=\"fill-opacity:0;stroke:#000000;\" x=\"267.6475\" xlink:href=\"#mf03f7af741\" y=\"103.315124\"/>\r\n     <use style=\"fill-opacity:0;stroke:#000000;\" x=\"267.6475\" xlink:href=\"#mf03f7af741\" y=\"75.042505\"/>\r\n     <use style=\"fill-opacity:0;stroke:#000000;\" x=\"267.6475\" xlink:href=\"#mf03f7af741\" y=\"112.73933\"/>\r\n     <use style=\"fill-opacity:0;stroke:#000000;\" x=\"267.6475\" xlink:href=\"#mf03f7af741\" y=\"89.178815\"/>\r\n     <use style=\"fill-opacity:0;stroke:#000000;\" x=\"267.6475\" xlink:href=\"#mf03f7af741\" y=\"103.315124\"/>\r\n     <use style=\"fill-opacity:0;stroke:#000000;\" x=\"267.6475\" xlink:href=\"#mf03f7af741\" y=\"125.226404\"/>\r\n     <use style=\"fill-opacity:0;stroke:#000000;\" x=\"267.6475\" xlink:href=\"#mf03f7af741\" y=\"124.048378\"/>\r\n     <use style=\"fill-opacity:0;stroke:#000000;\" x=\"267.6475\" xlink:href=\"#mf03f7af741\" y=\"96.246969\"/>\r\n    </g>\r\n   </g>\r\n   <g id=\"line2d_45\">\r\n    <path clip-path=\"url(#pc0aacd650a)\" d=\"M 317.8675 209.926458 \r\nL 351.3475 209.926458 \r\nL 351.3475 207.782451 \r\nL 317.8675 207.782451 \r\nL 317.8675 209.926458 \r\n\" style=\"fill:none;stroke:#1f77b4;stroke-linecap:square;\"/>\r\n   </g>\r\n   <g id=\"line2d_46\">\r\n    <path clip-path=\"url(#pc0aacd650a)\" d=\"M 334.6075 209.926458 \r\nL 334.6075 212.117586 \r\n\" style=\"fill:none;stroke:#1f77b4;stroke-linecap:square;\"/>\r\n   </g>\r\n   <g id=\"line2d_47\">\r\n    <path clip-path=\"url(#pc0aacd650a)\" d=\"M 334.6075 207.782451 \r\nL 334.6075 204.625342 \r\n\" style=\"fill:none;stroke:#1f77b4;stroke-linecap:square;\"/>\r\n   </g>\r\n   <g id=\"line2d_48\">\r\n    <path clip-path=\"url(#pc0aacd650a)\" d=\"M 326.2375 212.117586 \r\nL 342.9775 212.117586 \r\n\" style=\"fill:none;stroke:#000000;stroke-linecap:square;\"/>\r\n   </g>\r\n   <g id=\"line2d_49\">\r\n    <path clip-path=\"url(#pc0aacd650a)\" d=\"M 326.2375 204.625342 \r\nL 342.9775 204.625342 \r\n\" style=\"fill:none;stroke:#000000;stroke-linecap:square;\"/>\r\n   </g>\r\n   <g id=\"line2d_50\">\r\n    <g clip-path=\"url(#pc0aacd650a)\">\r\n     <use style=\"fill-opacity:0;stroke:#000000;\" x=\"334.6075\" xlink:href=\"#mf03f7af741\" y=\"203.871405\"/>\r\n     <use style=\"fill-opacity:0;stroke:#000000;\" x=\"334.6075\" xlink:href=\"#mf03f7af741\" y=\"203.447316\"/>\r\n     <use style=\"fill-opacity:0;stroke:#000000;\" x=\"334.6075\" xlink:href=\"#mf03f7af741\" y=\"200.596494\"/>\r\n     <use style=\"fill-opacity:0;stroke:#000000;\" x=\"334.6075\" xlink:href=\"#mf03f7af741\" y=\"204.08345\"/>\r\n     <use style=\"fill-opacity:0;stroke:#000000;\" x=\"334.6075\" xlink:href=\"#mf03f7af741\" y=\"204.08345\"/>\r\n     <use style=\"fill-opacity:0;stroke:#000000;\" x=\"334.6075\" xlink:href=\"#mf03f7af741\" y=\"203.942087\"/>\r\n     <use style=\"fill-opacity:0;stroke:#000000;\" x=\"334.6075\" xlink:href=\"#mf03f7af741\" y=\"202.410653\"/>\r\n     <use style=\"fill-opacity:0;stroke:#000000;\" x=\"334.6075\" xlink:href=\"#mf03f7af741\" y=\"202.905424\"/>\r\n    </g>\r\n   </g>\r\n   <g id=\"line2d_51\">\r\n    <path clip-path=\"url(#pc0aacd650a)\" d=\"M 50.0275 188.839796 \r\nL 83.5075 188.839796 \r\n\" style=\"fill:none;stroke:#2ca02c;stroke-linecap:square;\"/>\r\n   </g>\r\n   <g id=\"line2d_52\">\r\n    <path clip-path=\"url(#pc0aacd650a)\" d=\"M 116.9875 199.442028 \r\nL 150.4675 199.442028 \r\n\" style=\"fill:none;stroke:#2ca02c;stroke-linecap:square;\"/>\r\n   </g>\r\n   <g id=\"line2d_53\">\r\n    <path clip-path=\"url(#pc0aacd650a)\" d=\"M 183.9475 209.57305 \r\nL 217.4275 209.57305 \r\n\" style=\"fill:none;stroke:#2ca02c;stroke-linecap:square;\"/>\r\n   </g>\r\n   <g id=\"line2d_54\">\r\n    <path clip-path=\"url(#pc0aacd650a)\" d=\"M 250.9075 186.954955 \r\nL 284.3875 186.954955 \r\n\" style=\"fill:none;stroke:#2ca02c;stroke-linecap:square;\"/>\r\n   </g>\r\n   <g id=\"line2d_55\">\r\n    <path clip-path=\"url(#pc0aacd650a)\" d=\"M 317.8675 208.795553 \r\nL 351.3475 208.795553 \r\n\" style=\"fill:none;stroke:#2ca02c;stroke-linecap:square;\"/>\r\n   </g>\r\n   <g id=\"patch_3\">\r\n    <path d=\"M 33.2875 224.64 \r\nL 33.2875 7.2 \r\n\" style=\"fill:none;stroke:#000000;stroke-linecap:square;stroke-linejoin:miter;stroke-width:0.8;\"/>\r\n   </g>\r\n   <g id=\"patch_4\">\r\n    <path d=\"M 368.0875 224.64 \r\nL 368.0875 7.2 \r\n\" style=\"fill:none;stroke:#000000;stroke-linecap:square;stroke-linejoin:miter;stroke-width:0.8;\"/>\r\n   </g>\r\n   <g id=\"patch_5\">\r\n    <path d=\"M 33.2875 224.64 \r\nL 368.0875 224.64 \r\n\" style=\"fill:none;stroke:#000000;stroke-linecap:square;stroke-linejoin:miter;stroke-width:0.8;\"/>\r\n   </g>\r\n   <g id=\"patch_6\">\r\n    <path d=\"M 33.2875 7.2 \r\nL 368.0875 7.2 \r\n\" style=\"fill:none;stroke:#000000;stroke-linecap:square;stroke-linejoin:miter;stroke-width:0.8;\"/>\r\n   </g>\r\n  </g>\r\n </g>\r\n <defs>\r\n  <clipPath id=\"pc0aacd650a\">\r\n   <rect height=\"217.44\" width=\"334.8\" x=\"33.2875\" y=\"7.2\"/>\r\n  </clipPath>\r\n </defs>\r\n</svg>\r\n",
      "image/png": "[encoded data removed]"
     },
     "metadata": {
      "needs_background": "light"
     }
    }
   ],
   "source": [
    "# identificando os outliers\n",
    "pima_dataset.boxplot([1,2,3,4,5])"
   ]
  },
  {
   "cell_type": "code",
   "execution_count": 29,
   "metadata": {},
   "outputs": [
    {
     "output_type": "stream",
     "name": "stdout",
     "text": "<class 'pandas.core.frame.DataFrame'>\nRangeIndex: 768 entries, 0 to 767\nData columns (total 9 columns):\n #   Column  Non-Null Count  Dtype  \n---  ------  --------------  -----  \n 0   0       768 non-null    int64  \n 1   1       768 non-null    float64\n 2   2       768 non-null    float64\n 3   3       768 non-null    float64\n 4   4       768 non-null    float64\n 5   5       768 non-null    float64\n 6   6       768 non-null    float64\n 7   7       768 non-null    int64  \n 8   8       768 non-null    int64  \ndtypes: float64(6), int64(3)\nmemory usage: 54.1 KB\n"
    }
   ],
   "source": [
    "# preenchendo os valores nulos com a média dos demias valores não nulos da coluna\n",
    "df_nan_media = pima_dataset.fillna(pima_dataset.mean())\n",
    "df_nan_media.info()"
   ]
  },
  {
   "cell_type": "code",
   "execution_count": 30,
   "metadata": {},
   "outputs": [
    {
     "output_type": "execute_result",
     "data": {
      "text/plain": "   0      1     2         3           4     5      6   7  8\n0  6  148.0  72.0  35.00000  155.548223  33.6  0.627  50  1\n1  1   85.0  66.0  29.00000  155.548223  26.6  0.351  31  0\n2  8  183.0  64.0  29.15342  155.548223  23.3  0.672  32  1\n3  1   89.0  66.0  23.00000   94.000000  28.1  0.167  21  0\n4  0  137.0  40.0  35.00000  168.000000  43.1  2.288  33  1",
      "text/html": "<div>\n<style scoped>\n    .dataframe tbody tr th:only-of-type {\n        vertical-align: middle;\n    }\n\n    .dataframe tbody tr th {\n        vertical-align: top;\n    }\n\n    .dataframe thead th {\n        text-align: right;\n    }\n</style>\n<table border=\"1\" class=\"dataframe\">\n  <thead>\n    <tr style=\"text-align: right;\">\n      <th></th>\n      <th>0</th>\n      <th>1</th>\n      <th>2</th>\n      <th>3</th>\n      <th>4</th>\n      <th>5</th>\n      <th>6</th>\n      <th>7</th>\n      <th>8</th>\n    </tr>\n  </thead>\n  <tbody>\n    <tr>\n      <th>0</th>\n      <td>6</td>\n      <td>148.0</td>\n      <td>72.0</td>\n      <td>35.00000</td>\n      <td>155.548223</td>\n      <td>33.6</td>\n      <td>0.627</td>\n      <td>50</td>\n      <td>1</td>\n    </tr>\n    <tr>\n      <th>1</th>\n      <td>1</td>\n      <td>85.0</td>\n      <td>66.0</td>\n      <td>29.00000</td>\n      <td>155.548223</td>\n      <td>26.6</td>\n      <td>0.351</td>\n      <td>31</td>\n      <td>0</td>\n    </tr>\n    <tr>\n      <th>2</th>\n      <td>8</td>\n      <td>183.0</td>\n      <td>64.0</td>\n      <td>29.15342</td>\n      <td>155.548223</td>\n      <td>23.3</td>\n      <td>0.672</td>\n      <td>32</td>\n      <td>1</td>\n    </tr>\n    <tr>\n      <th>3</th>\n      <td>1</td>\n      <td>89.0</td>\n      <td>66.0</td>\n      <td>23.00000</td>\n      <td>94.000000</td>\n      <td>28.1</td>\n      <td>0.167</td>\n      <td>21</td>\n      <td>0</td>\n    </tr>\n    <tr>\n      <th>4</th>\n      <td>0</td>\n      <td>137.0</td>\n      <td>40.0</td>\n      <td>35.00000</td>\n      <td>168.000000</td>\n      <td>43.1</td>\n      <td>2.288</td>\n      <td>33</td>\n      <td>1</td>\n    </tr>\n  </tbody>\n</table>\n</div>"
     },
     "metadata": {},
     "execution_count": 30
    }
   ],
   "source": [
    "df_nan_media.head()"
   ]
  },
  {
   "cell_type": "markdown",
   "metadata": {},
   "source": [
    "## Dataset Cars"
   ]
  },
  {
   "cell_type": "code",
   "execution_count": 31,
   "metadata": {},
   "outputs": [],
   "source": [
    "# importando o dataset\n",
    "df_carros = pd.read_csv('DataSet/imports-85.txt', sep = ',', header = None, na_values = '?')"
   ]
  },
  {
   "cell_type": "code",
   "execution_count": 32,
   "metadata": {},
   "outputs": [
    {
     "output_type": "execute_result",
     "data": {
      "text/plain": "   0      1            2    3    4     5            6    7      8     9   ...  \\\n0   3    NaN  alfa-romero  gas  std   two  convertible  rwd  front  88.6  ...   \n1   3    NaN  alfa-romero  gas  std   two  convertible  rwd  front  88.6  ...   \n2   1    NaN  alfa-romero  gas  std   two    hatchback  rwd  front  94.5  ...   \n3   2  164.0         audi  gas  std  four        sedan  fwd  front  99.8  ...   \n4   2  164.0         audi  gas  std  four        sedan  4wd  front  99.4  ...   \n\n    16    17    18    19    20     21      22  23  24       25  \n0  130  mpfi  3.47  2.68   9.0  111.0  5000.0  21  27  13495.0  \n1  130  mpfi  3.47  2.68   9.0  111.0  5000.0  21  27  16500.0  \n2  152  mpfi  2.68  3.47   9.0  154.0  5000.0  19  26  16500.0  \n3  109  mpfi  3.19  3.40  10.0  102.0  5500.0  24  30  13950.0  \n4  136  mpfi  3.19  3.40   8.0  115.0  5500.0  18  22  17450.0  \n\n[5 rows x 26 columns]",
      "text/html": "<div>\n<style scoped>\n    .dataframe tbody tr th:only-of-type {\n        vertical-align: middle;\n    }\n\n    .dataframe tbody tr th {\n        vertical-align: top;\n    }\n\n    .dataframe thead th {\n        text-align: right;\n    }\n</style>\n<table border=\"1\" class=\"dataframe\">\n  <thead>\n    <tr style=\"text-align: right;\">\n      <th></th>\n      <th>0</th>\n      <th>1</th>\n      <th>2</th>\n      <th>3</th>\n      <th>4</th>\n      <th>5</th>\n      <th>6</th>\n      <th>7</th>\n      <th>8</th>\n      <th>9</th>\n      <th>...</th>\n      <th>16</th>\n      <th>17</th>\n      <th>18</th>\n      <th>19</th>\n      <th>20</th>\n      <th>21</th>\n      <th>22</th>\n      <th>23</th>\n      <th>24</th>\n      <th>25</th>\n    </tr>\n  </thead>\n  <tbody>\n    <tr>\n      <th>0</th>\n      <td>3</td>\n      <td>NaN</td>\n      <td>alfa-romero</td>\n      <td>gas</td>\n      <td>std</td>\n      <td>two</td>\n      <td>convertible</td>\n      <td>rwd</td>\n      <td>front</td>\n      <td>88.6</td>\n      <td>...</td>\n      <td>130</td>\n      <td>mpfi</td>\n      <td>3.47</td>\n      <td>2.68</td>\n      <td>9.0</td>\n      <td>111.0</td>\n      <td>5000.0</td>\n      <td>21</td>\n      <td>27</td>\n      <td>13495.0</td>\n    </tr>\n    <tr>\n      <th>1</th>\n      <td>3</td>\n      <td>NaN</td>\n      <td>alfa-romero</td>\n      <td>gas</td>\n      <td>std</td>\n      <td>two</td>\n      <td>convertible</td>\n      <td>rwd</td>\n      <td>front</td>\n      <td>88.6</td>\n      <td>...</td>\n      <td>130</td>\n      <td>mpfi</td>\n      <td>3.47</td>\n      <td>2.68</td>\n      <td>9.0</td>\n      <td>111.0</td>\n      <td>5000.0</td>\n      <td>21</td>\n      <td>27</td>\n      <td>16500.0</td>\n    </tr>\n    <tr>\n      <th>2</th>\n      <td>1</td>\n      <td>NaN</td>\n      <td>alfa-romero</td>\n      <td>gas</td>\n      <td>std</td>\n      <td>two</td>\n      <td>hatchback</td>\n      <td>rwd</td>\n      <td>front</td>\n      <td>94.5</td>\n      <td>...</td>\n      <td>152</td>\n      <td>mpfi</td>\n      <td>2.68</td>\n      <td>3.47</td>\n      <td>9.0</td>\n      <td>154.0</td>\n      <td>5000.0</td>\n      <td>19</td>\n      <td>26</td>\n      <td>16500.0</td>\n    </tr>\n    <tr>\n      <th>3</th>\n      <td>2</td>\n      <td>164.0</td>\n      <td>audi</td>\n      <td>gas</td>\n      <td>std</td>\n      <td>four</td>\n      <td>sedan</td>\n      <td>fwd</td>\n      <td>front</td>\n      <td>99.8</td>\n      <td>...</td>\n      <td>109</td>\n      <td>mpfi</td>\n      <td>3.19</td>\n      <td>3.40</td>\n      <td>10.0</td>\n      <td>102.0</td>\n      <td>5500.0</td>\n      <td>24</td>\n      <td>30</td>\n      <td>13950.0</td>\n    </tr>\n    <tr>\n      <th>4</th>\n      <td>2</td>\n      <td>164.0</td>\n      <td>audi</td>\n      <td>gas</td>\n      <td>std</td>\n      <td>four</td>\n      <td>sedan</td>\n      <td>4wd</td>\n      <td>front</td>\n      <td>99.4</td>\n      <td>...</td>\n      <td>136</td>\n      <td>mpfi</td>\n      <td>3.19</td>\n      <td>3.40</td>\n      <td>8.0</td>\n      <td>115.0</td>\n      <td>5500.0</td>\n      <td>18</td>\n      <td>22</td>\n      <td>17450.0</td>\n    </tr>\n  </tbody>\n</table>\n<p>5 rows × 26 columns</p>\n</div>"
     },
     "metadata": {},
     "execution_count": 32
    }
   ],
   "source": [
    "df_carros.head()"
   ]
  },
  {
   "cell_type": "code",
   "execution_count": 33,
   "metadata": {},
   "outputs": [
    {
     "output_type": "stream",
     "name": "stdout",
     "text": "<class 'pandas.core.frame.DataFrame'>\nRangeIndex: 205 entries, 0 to 204\nData columns (total 26 columns):\n #   Column  Non-Null Count  Dtype  \n---  ------  --------------  -----  \n 0   0       205 non-null    int64  \n 1   1       164 non-null    float64\n 2   2       205 non-null    object \n 3   3       205 non-null    object \n 4   4       205 non-null    object \n 5   5       203 non-null    object \n 6   6       205 non-null    object \n 7   7       205 non-null    object \n 8   8       205 non-null    object \n 9   9       205 non-null    float64\n 10  10      205 non-null    float64\n 11  11      205 non-null    float64\n 12  12      205 non-null    float64\n 13  13      205 non-null    int64  \n 14  14      205 non-null    object \n 15  15      205 non-null    object \n 16  16      205 non-null    int64  \n 17  17      205 non-null    object \n 18  18      201 non-null    float64\n 19  19      201 non-null    float64\n 20  20      205 non-null    float64\n 21  21      203 non-null    float64\n 22  22      203 non-null    float64\n 23  23      205 non-null    int64  \n 24  24      205 non-null    int64  \n 25  25      201 non-null    float64\ndtypes: float64(11), int64(5), object(10)\nmemory usage: 41.8+ KB\n"
    }
   ],
   "source": [
    "df_carros.info()"
   ]
  },
  {
   "cell_type": "code",
   "execution_count": 35,
   "metadata": {},
   "outputs": [],
   "source": [
    "headers = {0: 'Symboling', 1: 'Normalized_losses', 2: 'make', 3: 'Fuel_type', 4: 'Aspiration',\n",
    "5: 'Num_doors', 6: 'Body_style', 7: 'Drive_wheels', 8: 'Engine_location', 9: 'Wheel_base', 10: 'Length', 11: 'Width', 12: 'Height', 13: 'Curb_Weight',\n",
    "14: 'Engine_type', 15: 'Num_cylinders', 16: 'Engine_size', 17: 'Fuel_system', 18: 'Bore', 19: 'Stroke', 20: 'Compression_rate', 21: 'Horsepower', 22: 'Peak_rpm',\n",
    "23: 'City_mpg', 24: 'Highway_mpg', 25: 'Price'}"
   ]
  },
  {
   "cell_type": "code",
   "execution_count": 37,
   "metadata": {},
   "outputs": [
    {
     "output_type": "execute_result",
     "data": {
      "text/plain": "   Symboling  Normalized_losses         make Fuel_type Aspiration Num_doors  \\\n0          3                NaN  alfa-romero       gas        std       two   \n1          3                NaN  alfa-romero       gas        std       two   \n2          1                NaN  alfa-romero       gas        std       two   \n3          2              164.0         audi       gas        std      four   \n4          2              164.0         audi       gas        std      four   \n\n    Body_style Drive_wheels Engine_location  Wheel_base  ...  Engine_size  \\\n0  convertible          rwd           front        88.6  ...          130   \n1  convertible          rwd           front        88.6  ...          130   \n2    hatchback          rwd           front        94.5  ...          152   \n3        sedan          fwd           front        99.8  ...          109   \n4        sedan          4wd           front        99.4  ...          136   \n\n   Fuel_system  Bore  Stroke Compression_rate Horsepower  Peak_rpm City_mpg  \\\n0         mpfi  3.47    2.68              9.0      111.0    5000.0       21   \n1         mpfi  3.47    2.68              9.0      111.0    5000.0       21   \n2         mpfi  2.68    3.47              9.0      154.0    5000.0       19   \n3         mpfi  3.19    3.40             10.0      102.0    5500.0       24   \n4         mpfi  3.19    3.40              8.0      115.0    5500.0       18   \n\n   Highway_mpg    Price  \n0           27  13495.0  \n1           27  16500.0  \n2           26  16500.0  \n3           30  13950.0  \n4           22  17450.0  \n\n[5 rows x 26 columns]",
      "text/html": "<div>\n<style scoped>\n    .dataframe tbody tr th:only-of-type {\n        vertical-align: middle;\n    }\n\n    .dataframe tbody tr th {\n        vertical-align: top;\n    }\n\n    .dataframe thead th {\n        text-align: right;\n    }\n</style>\n<table border=\"1\" class=\"dataframe\">\n  <thead>\n    <tr style=\"text-align: right;\">\n      <th></th>\n      <th>Symboling</th>\n      <th>Normalized_losses</th>\n      <th>make</th>\n      <th>Fuel_type</th>\n      <th>Aspiration</th>\n      <th>Num_doors</th>\n      <th>Body_style</th>\n      <th>Drive_wheels</th>\n      <th>Engine_location</th>\n      <th>Wheel_base</th>\n      <th>...</th>\n      <th>Engine_size</th>\n      <th>Fuel_system</th>\n      <th>Bore</th>\n      <th>Stroke</th>\n      <th>Compression_rate</th>\n      <th>Horsepower</th>\n      <th>Peak_rpm</th>\n      <th>City_mpg</th>\n      <th>Highway_mpg</th>\n      <th>Price</th>\n    </tr>\n  </thead>\n  <tbody>\n    <tr>\n      <th>0</th>\n      <td>3</td>\n      <td>NaN</td>\n      <td>alfa-romero</td>\n      <td>gas</td>\n      <td>std</td>\n      <td>two</td>\n      <td>convertible</td>\n      <td>rwd</td>\n      <td>front</td>\n      <td>88.6</td>\n      <td>...</td>\n      <td>130</td>\n      <td>mpfi</td>\n      <td>3.47</td>\n      <td>2.68</td>\n      <td>9.0</td>\n      <td>111.0</td>\n      <td>5000.0</td>\n      <td>21</td>\n      <td>27</td>\n      <td>13495.0</td>\n    </tr>\n    <tr>\n      <th>1</th>\n      <td>3</td>\n      <td>NaN</td>\n      <td>alfa-romero</td>\n      <td>gas</td>\n      <td>std</td>\n      <td>two</td>\n      <td>convertible</td>\n      <td>rwd</td>\n      <td>front</td>\n      <td>88.6</td>\n      <td>...</td>\n      <td>130</td>\n      <td>mpfi</td>\n      <td>3.47</td>\n      <td>2.68</td>\n      <td>9.0</td>\n      <td>111.0</td>\n      <td>5000.0</td>\n      <td>21</td>\n      <td>27</td>\n      <td>16500.0</td>\n    </tr>\n    <tr>\n      <th>2</th>\n      <td>1</td>\n      <td>NaN</td>\n      <td>alfa-romero</td>\n      <td>gas</td>\n      <td>std</td>\n      <td>two</td>\n      <td>hatchback</td>\n      <td>rwd</td>\n      <td>front</td>\n      <td>94.5</td>\n      <td>...</td>\n      <td>152</td>\n      <td>mpfi</td>\n      <td>2.68</td>\n      <td>3.47</td>\n      <td>9.0</td>\n      <td>154.0</td>\n      <td>5000.0</td>\n      <td>19</td>\n      <td>26</td>\n      <td>16500.0</td>\n    </tr>\n    <tr>\n      <th>3</th>\n      <td>2</td>\n      <td>164.0</td>\n      <td>audi</td>\n      <td>gas</td>\n      <td>std</td>\n      <td>four</td>\n      <td>sedan</td>\n      <td>fwd</td>\n      <td>front</td>\n      <td>99.8</td>\n      <td>...</td>\n      <td>109</td>\n      <td>mpfi</td>\n      <td>3.19</td>\n      <td>3.40</td>\n      <td>10.0</td>\n      <td>102.0</td>\n      <td>5500.0</td>\n      <td>24</td>\n      <td>30</td>\n      <td>13950.0</td>\n    </tr>\n    <tr>\n      <th>4</th>\n      <td>2</td>\n      <td>164.0</td>\n      <td>audi</td>\n      <td>gas</td>\n      <td>std</td>\n      <td>four</td>\n      <td>sedan</td>\n      <td>4wd</td>\n      <td>front</td>\n      <td>99.4</td>\n      <td>...</td>\n      <td>136</td>\n      <td>mpfi</td>\n      <td>3.19</td>\n      <td>3.40</td>\n      <td>8.0</td>\n      <td>115.0</td>\n      <td>5500.0</td>\n      <td>18</td>\n      <td>22</td>\n      <td>17450.0</td>\n    </tr>\n  </tbody>\n</table>\n<p>5 rows × 26 columns</p>\n</div>"
     },
     "metadata": {},
     "execution_count": 37
    }
   ],
   "source": [
    "df_carros.rename(columns = headers, inplace = True)\n",
    "df_carros.head()"
   ]
  },
  {
   "cell_type": "code",
   "execution_count": 39,
   "metadata": {},
   "outputs": [
    {
     "output_type": "execute_result",
     "data": {
      "text/plain": "10"
     },
     "metadata": {},
     "execution_count": 39
    }
   ],
   "source": [
    "# contagem da quantidade de 'object' existente no dataset\n",
    "df_carros.dtypes.eq('object').sum()"
   ]
  },
  {
   "cell_type": "code",
   "execution_count": 41,
   "metadata": {},
   "outputs": [
    {
     "output_type": "execute_result",
     "data": {
      "text/plain": "          make Fuel_type Aspiration Num_doors   Body_style Drive_wheels  \\\n0  alfa-romero       gas        std       two  convertible          rwd   \n1  alfa-romero       gas        std       two  convertible          rwd   \n2  alfa-romero       gas        std       two    hatchback          rwd   \n3         audi       gas        std      four        sedan          fwd   \n4         audi       gas        std      four        sedan          4wd   \n\n  Engine_location Engine_type Num_cylinders Fuel_system  \n0           front        dohc          four        mpfi  \n1           front        dohc          four        mpfi  \n2           front        ohcv           six        mpfi  \n3           front         ohc          four        mpfi  \n4           front         ohc          five        mpfi  ",
      "text/html": "<div>\n<style scoped>\n    .dataframe tbody tr th:only-of-type {\n        vertical-align: middle;\n    }\n\n    .dataframe tbody tr th {\n        vertical-align: top;\n    }\n\n    .dataframe thead th {\n        text-align: right;\n    }\n</style>\n<table border=\"1\" class=\"dataframe\">\n  <thead>\n    <tr style=\"text-align: right;\">\n      <th></th>\n      <th>make</th>\n      <th>Fuel_type</th>\n      <th>Aspiration</th>\n      <th>Num_doors</th>\n      <th>Body_style</th>\n      <th>Drive_wheels</th>\n      <th>Engine_location</th>\n      <th>Engine_type</th>\n      <th>Num_cylinders</th>\n      <th>Fuel_system</th>\n    </tr>\n  </thead>\n  <tbody>\n    <tr>\n      <th>0</th>\n      <td>alfa-romero</td>\n      <td>gas</td>\n      <td>std</td>\n      <td>two</td>\n      <td>convertible</td>\n      <td>rwd</td>\n      <td>front</td>\n      <td>dohc</td>\n      <td>four</td>\n      <td>mpfi</td>\n    </tr>\n    <tr>\n      <th>1</th>\n      <td>alfa-romero</td>\n      <td>gas</td>\n      <td>std</td>\n      <td>two</td>\n      <td>convertible</td>\n      <td>rwd</td>\n      <td>front</td>\n      <td>dohc</td>\n      <td>four</td>\n      <td>mpfi</td>\n    </tr>\n    <tr>\n      <th>2</th>\n      <td>alfa-romero</td>\n      <td>gas</td>\n      <td>std</td>\n      <td>two</td>\n      <td>hatchback</td>\n      <td>rwd</td>\n      <td>front</td>\n      <td>ohcv</td>\n      <td>six</td>\n      <td>mpfi</td>\n    </tr>\n    <tr>\n      <th>3</th>\n      <td>audi</td>\n      <td>gas</td>\n      <td>std</td>\n      <td>four</td>\n      <td>sedan</td>\n      <td>fwd</td>\n      <td>front</td>\n      <td>ohc</td>\n      <td>four</td>\n      <td>mpfi</td>\n    </tr>\n    <tr>\n      <th>4</th>\n      <td>audi</td>\n      <td>gas</td>\n      <td>std</td>\n      <td>four</td>\n      <td>sedan</td>\n      <td>4wd</td>\n      <td>front</td>\n      <td>ohc</td>\n      <td>five</td>\n      <td>mpfi</td>\n    </tr>\n  </tbody>\n</table>\n</div>"
     },
     "metadata": {},
     "execution_count": 41
    }
   ],
   "source": [
    "# seleciona apenas os dados categoricos\n",
    "# realiza uma coia do dataset apenas para as colunas object\n",
    "df_carros_string = df_carros.select_dtypes(include = ['object']).copy()\n",
    "df_carros_string.head()"
   ]
  },
  {
   "cell_type": "code",
   "execution_count": 42,
   "metadata": {},
   "outputs": [
    {
     "output_type": "execute_result",
     "data": {
      "text/plain": "make               0\nFuel_type          0\nAspiration         0\nNum_doors          2\nBody_style         0\nDrive_wheels       0\nEngine_location    0\nEngine_type        0\nNum_cylinders      0\nFuel_system        0\ndtype: int64"
     },
     "metadata": {},
     "execution_count": 42
    }
   ],
   "source": [
    "# verificando se existem valores nulos\n",
    "df_carros_string.isnull().sum()"
   ]
  },
  {
   "cell_type": "code",
   "execution_count": 43,
   "metadata": {},
   "outputs": [],
   "source": [
    "# realiza drop das colunas com valores NA\n",
    "df_carros_string.dropna(inplace = True)"
   ]
  },
  {
   "cell_type": "code",
   "execution_count": 44,
   "metadata": {},
   "outputs": [
    {
     "output_type": "stream",
     "name": "stdout",
     "text": "<class 'pandas.core.frame.DataFrame'>\nInt64Index: 203 entries, 0 to 204\nData columns (total 10 columns):\n #   Column           Non-Null Count  Dtype \n---  ------           --------------  ----- \n 0   make             203 non-null    object\n 1   Fuel_type        203 non-null    object\n 2   Aspiration       203 non-null    object\n 3   Num_doors        203 non-null    object\n 4   Body_style       203 non-null    object\n 5   Drive_wheels     203 non-null    object\n 6   Engine_location  203 non-null    object\n 7   Engine_type      203 non-null    object\n 8   Num_cylinders    203 non-null    object\n 9   Fuel_system      203 non-null    object\ndtypes: object(10)\nmemory usage: 27.4+ KB\n"
    }
   ],
   "source": [
    "df_carros_string.info()"
   ]
  },
  {
   "cell_type": "code",
   "execution_count": 45,
   "metadata": {},
   "outputs": [
    {
     "output_type": "execute_result",
     "data": {
      "text/plain": "four      157\nsix        24\nfive       11\neight       5\ntwo         4\nthree       1\ntwelve      1\nName: Num_cylinders, dtype: int64"
     },
     "metadata": {},
     "execution_count": 45
    }
   ],
   "source": [
    "# conta os valores para cada umas das classes\n",
    "df_carros_string['Num_cylinders'].value_counts()"
   ]
  },
  {
   "cell_type": "code",
   "execution_count": 46,
   "metadata": {},
   "outputs": [],
   "source": [
    "# utilizando o dicionario e a função replace para transformar em numericos\n",
    "mapeamento_classes = {\n",
    "    'Num_doors': {'four': 4, 'two': 2},\n",
    "    'Num_cylinders': {'four': 4, 'six': 6, 'five': 5, 'eight': 8, 'two': 2, 'twleve': 12, 'three': 3}\n",
    "}"
   ]
  },
  {
   "cell_type": "code",
   "execution_count": 47,
   "metadata": {},
   "outputs": [
    {
     "output_type": "execute_result",
     "data": {
      "text/plain": "          make Fuel_type Aspiration  Num_doors   Body_style Drive_wheels  \\\n0  alfa-romero       gas        std          2  convertible          rwd   \n1  alfa-romero       gas        std          2  convertible          rwd   \n2  alfa-romero       gas        std          2    hatchback          rwd   \n3         audi       gas        std          4        sedan          fwd   \n4         audi       gas        std          4        sedan          4wd   \n\n  Engine_location Engine_type Num_cylinders Fuel_system  \n0           front        dohc             4        mpfi  \n1           front        dohc             4        mpfi  \n2           front        ohcv             6        mpfi  \n3           front         ohc             4        mpfi  \n4           front         ohc             5        mpfi  ",
      "text/html": "<div>\n<style scoped>\n    .dataframe tbody tr th:only-of-type {\n        vertical-align: middle;\n    }\n\n    .dataframe tbody tr th {\n        vertical-align: top;\n    }\n\n    .dataframe thead th {\n        text-align: right;\n    }\n</style>\n<table border=\"1\" class=\"dataframe\">\n  <thead>\n    <tr style=\"text-align: right;\">\n      <th></th>\n      <th>make</th>\n      <th>Fuel_type</th>\n      <th>Aspiration</th>\n      <th>Num_doors</th>\n      <th>Body_style</th>\n      <th>Drive_wheels</th>\n      <th>Engine_location</th>\n      <th>Engine_type</th>\n      <th>Num_cylinders</th>\n      <th>Fuel_system</th>\n    </tr>\n  </thead>\n  <tbody>\n    <tr>\n      <th>0</th>\n      <td>alfa-romero</td>\n      <td>gas</td>\n      <td>std</td>\n      <td>2</td>\n      <td>convertible</td>\n      <td>rwd</td>\n      <td>front</td>\n      <td>dohc</td>\n      <td>4</td>\n      <td>mpfi</td>\n    </tr>\n    <tr>\n      <th>1</th>\n      <td>alfa-romero</td>\n      <td>gas</td>\n      <td>std</td>\n      <td>2</td>\n      <td>convertible</td>\n      <td>rwd</td>\n      <td>front</td>\n      <td>dohc</td>\n      <td>4</td>\n      <td>mpfi</td>\n    </tr>\n    <tr>\n      <th>2</th>\n      <td>alfa-romero</td>\n      <td>gas</td>\n      <td>std</td>\n      <td>2</td>\n      <td>hatchback</td>\n      <td>rwd</td>\n      <td>front</td>\n      <td>ohcv</td>\n      <td>6</td>\n      <td>mpfi</td>\n    </tr>\n    <tr>\n      <th>3</th>\n      <td>audi</td>\n      <td>gas</td>\n      <td>std</td>\n      <td>4</td>\n      <td>sedan</td>\n      <td>fwd</td>\n      <td>front</td>\n      <td>ohc</td>\n      <td>4</td>\n      <td>mpfi</td>\n    </tr>\n    <tr>\n      <th>4</th>\n      <td>audi</td>\n      <td>gas</td>\n      <td>std</td>\n      <td>4</td>\n      <td>sedan</td>\n      <td>4wd</td>\n      <td>front</td>\n      <td>ohc</td>\n      <td>5</td>\n      <td>mpfi</td>\n    </tr>\n  </tbody>\n</table>\n</div>"
     },
     "metadata": {},
     "execution_count": 47
    }
   ],
   "source": [
    "# aplicando a função replace\n",
    "df_carros_string.replace(mapeamento_classes, inplace = True)\n",
    "df_carros_string.head()"
   ]
  },
  {
   "cell_type": "code",
   "execution_count": 49,
   "metadata": {},
   "outputs": [
    {
     "output_type": "stream",
     "name": "stdout",
     "text": "<class 'pandas.core.frame.DataFrame'>\nInt64Index: 203 entries, 0 to 204\nData columns (total 10 columns):\n #   Column           Non-Null Count  Dtype   \n---  ------           --------------  -----   \n 0   make             203 non-null    object  \n 1   Fuel_type        203 non-null    object  \n 2   Aspiration       203 non-null    object  \n 3   Num_doors        203 non-null    int64   \n 4   Body_style       203 non-null    category\n 5   Drive_wheels     203 non-null    object  \n 6   Engine_location  203 non-null    object  \n 7   Engine_type      203 non-null    object  \n 8   Num_cylinders    203 non-null    object  \n 9   Fuel_system      203 non-null    object  \ndtypes: category(1), int64(1), object(8)\nmemory usage: 26.3+ KB\n"
    }
   ],
   "source": [
    "# aplicando label encoding\n",
    "df_carros_string['Body_style'] = df_carros_string['Body_style'].astype('category')\n",
    "df_carros_string.info()"
   ]
  },
  {
   "cell_type": "code",
   "execution_count": 52,
   "metadata": {},
   "outputs": [
    {
     "output_type": "execute_result",
     "data": {
      "text/plain": "          make Fuel_type Aspiration  Num_doors   Body_style Drive_wheels  \\\n0  alfa-romero       gas        std          2  convertible          rwd   \n1  alfa-romero       gas        std          2  convertible          rwd   \n2  alfa-romero       gas        std          2    hatchback          rwd   \n3         audi       gas        std          4        sedan          fwd   \n4         audi       gas        std          4        sedan          4wd   \n\n  Engine_location Engine_type Num_cylinders Fuel_system  Body_style_cat  \n0           front        dohc             4        mpfi               0  \n1           front        dohc             4        mpfi               0  \n2           front        ohcv             6        mpfi               2  \n3           front         ohc             4        mpfi               3  \n4           front         ohc             5        mpfi               3  ",
      "text/html": "<div>\n<style scoped>\n    .dataframe tbody tr th:only-of-type {\n        vertical-align: middle;\n    }\n\n    .dataframe tbody tr th {\n        vertical-align: top;\n    }\n\n    .dataframe thead th {\n        text-align: right;\n    }\n</style>\n<table border=\"1\" class=\"dataframe\">\n  <thead>\n    <tr style=\"text-align: right;\">\n      <th></th>\n      <th>make</th>\n      <th>Fuel_type</th>\n      <th>Aspiration</th>\n      <th>Num_doors</th>\n      <th>Body_style</th>\n      <th>Drive_wheels</th>\n      <th>Engine_location</th>\n      <th>Engine_type</th>\n      <th>Num_cylinders</th>\n      <th>Fuel_system</th>\n      <th>Body_style_cat</th>\n    </tr>\n  </thead>\n  <tbody>\n    <tr>\n      <th>0</th>\n      <td>alfa-romero</td>\n      <td>gas</td>\n      <td>std</td>\n      <td>2</td>\n      <td>convertible</td>\n      <td>rwd</td>\n      <td>front</td>\n      <td>dohc</td>\n      <td>4</td>\n      <td>mpfi</td>\n      <td>0</td>\n    </tr>\n    <tr>\n      <th>1</th>\n      <td>alfa-romero</td>\n      <td>gas</td>\n      <td>std</td>\n      <td>2</td>\n      <td>convertible</td>\n      <td>rwd</td>\n      <td>front</td>\n      <td>dohc</td>\n      <td>4</td>\n      <td>mpfi</td>\n      <td>0</td>\n    </tr>\n    <tr>\n      <th>2</th>\n      <td>alfa-romero</td>\n      <td>gas</td>\n      <td>std</td>\n      <td>2</td>\n      <td>hatchback</td>\n      <td>rwd</td>\n      <td>front</td>\n      <td>ohcv</td>\n      <td>6</td>\n      <td>mpfi</td>\n      <td>2</td>\n    </tr>\n    <tr>\n      <th>3</th>\n      <td>audi</td>\n      <td>gas</td>\n      <td>std</td>\n      <td>4</td>\n      <td>sedan</td>\n      <td>fwd</td>\n      <td>front</td>\n      <td>ohc</td>\n      <td>4</td>\n      <td>mpfi</td>\n      <td>3</td>\n    </tr>\n    <tr>\n      <th>4</th>\n      <td>audi</td>\n      <td>gas</td>\n      <td>std</td>\n      <td>4</td>\n      <td>sedan</td>\n      <td>4wd</td>\n      <td>front</td>\n      <td>ohc</td>\n      <td>5</td>\n      <td>mpfi</td>\n      <td>3</td>\n    </tr>\n  </tbody>\n</table>\n</div>"
     },
     "metadata": {},
     "execution_count": 52
    }
   ],
   "source": [
    "# apos definir como categorico, é possivel realizar o procedimento de label encoding\n",
    "df_carros_string['Body_style_cat'] = df_carros_string['Body_style'].cat.codes\n",
    "df_carros_string.head()"
   ]
  },
  {
   "cell_type": "code",
   "execution_count": 54,
   "metadata": {},
   "outputs": [
    {
     "output_type": "execute_result",
     "data": {
      "text/plain": "array(['rwd', 'fwd', '4wd'], dtype=object)"
     },
     "metadata": {},
     "execution_count": 54
    }
   ],
   "source": [
    "df_carros_string['Drive_wheels'].unique()"
   ]
  },
  {
   "cell_type": "code",
   "execution_count": 55,
   "metadata": {},
   "outputs": [
    {
     "output_type": "execute_result",
     "data": {
      "text/plain": "          make Fuel_type Aspiration  Num_doors   Body_style Engine_location  \\\n0  alfa-romero       gas        std          2  convertible           front   \n1  alfa-romero       gas        std          2  convertible           front   \n2  alfa-romero       gas        std          2    hatchback           front   \n3         audi       gas        std          4        sedan           front   \n4         audi       gas        std          4        sedan           front   \n\n  Engine_type Num_cylinders Fuel_system  Body_style_cat  Drive_wheels_4wd  \\\n0        dohc             4        mpfi               0                 0   \n1        dohc             4        mpfi               0                 0   \n2        ohcv             6        mpfi               2                 0   \n3         ohc             4        mpfi               3                 0   \n4         ohc             5        mpfi               3                 1   \n\n   Drive_wheels_fwd  Drive_wheels_rwd  \n0                 0                 1  \n1                 0                 1  \n2                 0                 1  \n3                 1                 0  \n4                 0                 0  ",
      "text/html": "<div>\n<style scoped>\n    .dataframe tbody tr th:only-of-type {\n        vertical-align: middle;\n    }\n\n    .dataframe tbody tr th {\n        vertical-align: top;\n    }\n\n    .dataframe thead th {\n        text-align: right;\n    }\n</style>\n<table border=\"1\" class=\"dataframe\">\n  <thead>\n    <tr style=\"text-align: right;\">\n      <th></th>\n      <th>make</th>\n      <th>Fuel_type</th>\n      <th>Aspiration</th>\n      <th>Num_doors</th>\n      <th>Body_style</th>\n      <th>Engine_location</th>\n      <th>Engine_type</th>\n      <th>Num_cylinders</th>\n      <th>Fuel_system</th>\n      <th>Body_style_cat</th>\n      <th>Drive_wheels_4wd</th>\n      <th>Drive_wheels_fwd</th>\n      <th>Drive_wheels_rwd</th>\n    </tr>\n  </thead>\n  <tbody>\n    <tr>\n      <th>0</th>\n      <td>alfa-romero</td>\n      <td>gas</td>\n      <td>std</td>\n      <td>2</td>\n      <td>convertible</td>\n      <td>front</td>\n      <td>dohc</td>\n      <td>4</td>\n      <td>mpfi</td>\n      <td>0</td>\n      <td>0</td>\n      <td>0</td>\n      <td>1</td>\n    </tr>\n    <tr>\n      <th>1</th>\n      <td>alfa-romero</td>\n      <td>gas</td>\n      <td>std</td>\n      <td>2</td>\n      <td>convertible</td>\n      <td>front</td>\n      <td>dohc</td>\n      <td>4</td>\n      <td>mpfi</td>\n      <td>0</td>\n      <td>0</td>\n      <td>0</td>\n      <td>1</td>\n    </tr>\n    <tr>\n      <th>2</th>\n      <td>alfa-romero</td>\n      <td>gas</td>\n      <td>std</td>\n      <td>2</td>\n      <td>hatchback</td>\n      <td>front</td>\n      <td>ohcv</td>\n      <td>6</td>\n      <td>mpfi</td>\n      <td>2</td>\n      <td>0</td>\n      <td>0</td>\n      <td>1</td>\n    </tr>\n    <tr>\n      <th>3</th>\n      <td>audi</td>\n      <td>gas</td>\n      <td>std</td>\n      <td>4</td>\n      <td>sedan</td>\n      <td>front</td>\n      <td>ohc</td>\n      <td>4</td>\n      <td>mpfi</td>\n      <td>3</td>\n      <td>0</td>\n      <td>1</td>\n      <td>0</td>\n    </tr>\n    <tr>\n      <th>4</th>\n      <td>audi</td>\n      <td>gas</td>\n      <td>std</td>\n      <td>4</td>\n      <td>sedan</td>\n      <td>front</td>\n      <td>ohc</td>\n      <td>5</td>\n      <td>mpfi</td>\n      <td>3</td>\n      <td>1</td>\n      <td>0</td>\n      <td>0</td>\n    </tr>\n  </tbody>\n</table>\n</div>"
     },
     "metadata": {},
     "execution_count": 55
    }
   ],
   "source": [
    "# aplicando o One-Hot enconding sobre os valores de tração do carro\n",
    "pd.get_dummies(df_carros_string, columns = ['Drive_wheels']).head()"
   ]
  },
  {
   "cell_type": "code",
   "execution_count": null,
   "metadata": {},
   "outputs": [],
   "source": []
  }
 ],
 "metadata": {
  "language_info": {
   "codemirror_mode": {
    "name": "ipython",
    "version": 3
   },
   "file_extension": ".py",
   "mimetype": "text/x-python",
   "name": "python",
   "nbconvert_exporter": "python",
   "pygments_lexer": "ipython3",
   "version": "3.7.6-final"
  },
  "orig_nbformat": 2,
  "kernelspec": {
   "name": "python37664bitbasecondae1797f1665a5401db9a5814b5ddc2edc",
   "display_name": "Python 3.7.6 64-bit ('base': conda)"
  }
 },
 "nbformat": 4,
 "nbformat_minor": 2
}